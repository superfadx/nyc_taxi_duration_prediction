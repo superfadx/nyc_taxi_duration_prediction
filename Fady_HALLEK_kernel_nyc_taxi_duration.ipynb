{
  "cells": [
    {
      "metadata": {
        "_uuid": "8f2839f25d086af736a60e9eeb907d3b93b6e0e5",
        "_cell_guid": "b1076dfc-b9ad-4769-8c92-a6c4dae69d19",
        "trusted": true
      },
      "cell_type": "code",
      "source": "# This Python 3 environment comes with many helpful analytics libraries installed\n# It is defined by the kaggle/python docker image: https://github.com/kaggle/docker-python\n# For example, here's several helpful packages to load in \n\n\n# Input data files are available in the \"../input/\" directory.\n# For example, running this (by clicking run or pressing Shift+Enter) will list the files in the input directory\n\nimport os\n\nimport numpy as np # linear algebra\nimport pandas as pd # data processing, CSV file I/O (e.g. pd.read_csv)\nfrom haversine import haversine\nimport seaborn as sns\nimport matplotlib.pyplot as plt\nfrom sklearn.ensemble import RandomForestRegressor\nfrom sklearn import metrics\nfrom sklearn.model_selection import train_test_split, cross_val_score\nimport warnings\nwarnings.filterwarnings('ignore')\n\n\n\nprint(os.listdir(\"../input\"))\n\n# Any results you write to the current directory are saved as output.",
      "execution_count": 2,
      "outputs": [
        {
          "output_type": "stream",
          "text": "['test.csv', 'test', 'sample_submission', 'train', 'train.csv', 'sample_submission.csv']\n",
          "name": "stdout"
        }
      ]
    },
    {
      "metadata": {
        "_cell_guid": "79c7e3d0-c299-4dcb-8224-4455121ee9b0",
        "_uuid": "d629ff2d2480ee46fbb7e2d37f6b5fab8052498a",
        "trusted": true
      },
      "cell_type": "markdown",
      "source": "# 1 Importation des données"
    },
    {
      "metadata": {
        "trusted": true,
        "scrolled": false,
        "_uuid": "544de7e139436bae84278f8fc8b4d0548e9f23c8"
      },
      "cell_type": "code",
      "source": "# Importation du fichier CSV (en indiquant que la colonne IDENTITY est la colonne id du dataset)\ndata = pd.read_csv('../input/train.csv') #, index_col = 0)\ntest = pd.read_csv('../input/test.csv') #, index_col = 0)",
      "execution_count": 3,
      "outputs": []
    },
    {
      "metadata": {
        "_uuid": "c23ad3d4dc668209cbe3afa6a1c0b386c9bb25ff"
      },
      "cell_type": "markdown",
      "source": "# 2 Analyse des données"
    },
    {
      "metadata": {
        "trusted": true,
        "_uuid": "c83c0999b6b155e53294a0917f0cd148ad97bacb"
      },
      "cell_type": "code",
      "source": "data.head()",
      "execution_count": null,
      "outputs": []
    },
    {
      "metadata": {
        "_uuid": "9083238d3ff11c5bf835e852780ce30f59249e01"
      },
      "cell_type": "markdown",
      "source": "# 3 Feature selection"
    },
    {
      "metadata": {
        "trusted": true,
        "_uuid": "4603c3c65c782a7ef106284fe4fd6dcb6a34c32a"
      },
      "cell_type": "code",
      "source": "SELECTED_COLUMNS = ['passenger_count']\nX = data[SELECTED_COLUMNS]\nX.head()\ny = np.log1p(data['trip_duration'])\n",
      "execution_count": null,
      "outputs": []
    },
    {
      "metadata": {
        "_uuid": "3161ecf09fbf7561e6c2300fdd9d1430473025fc"
      },
      "cell_type": "markdown",
      "source": "# Tester Choix du modèle avec une seule feature"
    },
    {
      "metadata": {
        "trusted": true,
        "_uuid": "1d9916cd450b617b03617ae7fad9901d4c6c8544"
      },
      "cell_type": "code",
      "source": "rf = RandomForestRegressor(random_state=42)\nrf.fit(X, y)",
      "execution_count": null,
      "outputs": []
    },
    {
      "metadata": {
        "_uuid": "ae34c21cc1e4ab8111697a5df71a42a793809098"
      },
      "cell_type": "markdown",
      "source": "# Tester Cross Validation avec une seule feature"
    },
    {
      "metadata": {
        "trusted": true,
        "_uuid": "3e42b2471b32acb412515b8e5cc7fee8761ba6d4"
      },
      "cell_type": "code",
      "source": "X.shape",
      "execution_count": null,
      "outputs": []
    },
    {
      "metadata": {
        "trusted": true,
        "_uuid": "e11edb42bb1cc9c92795457e778612f1a2b2976b"
      },
      "cell_type": "code",
      "source": "cv_scores = -cross_val_score(rf, X, y, cv=3, scoring='neg_mean_squared_error')\ncv_scores",
      "execution_count": null,
      "outputs": []
    },
    {
      "metadata": {
        "trusted": true,
        "_uuid": "7cef0f1d71f4c14b2904bbbec92dbaa0fd286c24"
      },
      "cell_type": "code",
      "source": "np.mean(cv_scores)",
      "execution_count": null,
      "outputs": []
    },
    {
      "metadata": {
        "trusted": true,
        "_uuid": "81a59fc306bb8a748224f0d8ae3567c7f80dce4d"
      },
      "cell_type": "code",
      "source": "X_test = test[SELECTED_COLUMNS]\npredictions = np.exp(rf.predict(X_test))-np.ones(len(X_test))\n\nX_test.shape\npred = pd.DataFrame(predictions, index=test['id'])\npred.columns = ['trip_duration']\npred.to_csv(\"submission_.csv\")\n\npd.read_csv('submission_.csv').head()",
      "execution_count": null,
      "outputs": []
    },
    {
      "metadata": {
        "trusted": true,
        "_uuid": "59b6ec3961ddfd78bfc30851d9f7138c2333ace6"
      },
      "cell_type": "code",
      "source": "",
      "execution_count": null,
      "outputs": []
    },
    {
      "metadata": {
        "_uuid": "2364e19f7391778a398e5eab6120a4a3778ceee9"
      },
      "cell_type": "markdown",
      "source": "# 4 Preprocessing"
    },
    {
      "metadata": {
        "trusted": true,
        "_uuid": "5daf9d3abc3295bd012d8206767c17bb8504e362"
      },
      "cell_type": "code",
      "source": "# Convertir les dates de timestamp en datetime afin d'extraire d'autres détails importants de la date\ndata['pickup_datetime'] = pd.to_datetime(data['pickup_datetime'])\ndata['dropoff_datetime'] = pd.to_datetime(data['dropoff_datetime'])\n\n# Convertir les dates de timestamp en datetime afin d'extraire d'autres détails importants de la date\ntest['pickup_datetime'] = pd.to_datetime(test['pickup_datetime'])",
      "execution_count": null,
      "outputs": []
    },
    {
      "metadata": {
        "trusted": true,
        "_uuid": "7866f2ca7f8cc4317d89d577bf2742dc0868bae8"
      },
      "cell_type": "code",
      "source": "# Extraction, Calcul et affectation des nouvelles données relative à la pickup_date dans le dataset\ndata['weekday'] = data.pickup_datetime.dt.weekday_name\ndata['month'] = data.pickup_datetime.dt.month\ndata['weekday_num'] = data.pickup_datetime.dt.weekday\ndata['pickup_hour'] = data.pickup_datetime.dt.hour\n\n# Extraction, Calcul et affectation des nouvelles données relative à la pickup_date dans le dataset\ntest['weekday'] = test.pickup_datetime.dt.weekday_name\ntest['month'] = test.pickup_datetime.dt.month\ntest['weekday_num'] = test.pickup_datetime.dt.weekday\ntest['pickup_hour'] = test.pickup_datetime.dt.hour",
      "execution_count": null,
      "outputs": []
    },
    {
      "metadata": {
        "trusted": true,
        "_uuid": "9bed8552db92675615a3c5059f5ff1da793a9225"
      },
      "cell_type": "code",
      "source": "# Fonction de calcul de distance entre les points de départs et les points d'arrivées\n# Elle prend en paramètre le dataset, et renvoie un vecteur contenant les distances entre ces points\n# Elle applique la méthode de Haversine pour le calcul des distances entre deux coordonnées\ndef calcul_distance(df):\n    pickedup = (df['pickup_latitude'], df['pickup_longitude'])\n    dropoff = (df['dropoff_latitude'], df['dropoff_longitude'])\n    return haversine(pickedup, dropoff)",
      "execution_count": null,
      "outputs": []
    },
    {
      "metadata": {
        "trusted": true,
        "_uuid": "311de98457bb8fc7a9d084a1be7a7a6def1eae55"
      },
      "cell_type": "code",
      "source": "# Calcul des distances entre les points de départs et les points d'arrivées\n# et les mettant dans une nouvelle colonne distance\ndata['distance'] = data.apply(lambda x : calcul_distance(x), axis = 1)\ntest['distance'] = test.apply(lambda x : calcul_distance(x), axis = 1)",
      "execution_count": null,
      "outputs": []
    },
    {
      "metadata": {
        "trusted": true,
        "_uuid": "c3be99b1e6bfbf191630a303be2d931cff9ee27f"
      },
      "cell_type": "code",
      "source": "data.dtypes.reset_index()\ntest.dtypes.reset_index()",
      "execution_count": null,
      "outputs": []
    },
    {
      "metadata": {
        "trusted": true,
        "_uuid": "536a1b5311b171873d930def89cb64fc6b5224ab"
      },
      "cell_type": "code",
      "source": "# Découper les features catégoriques en plusieurs variables numériques / indicatrices\n\ndummy = pd.get_dummies(data.store_and_fwd_flag, prefix='flag')\ndummy.drop(dummy.columns[0], axis=1, inplace=True) #enlever la première colonne qui est l'index\ndata = pd.concat([data,dummy], axis = 1)\n\ndummy = pd.get_dummies(data.vendor_id, prefix='vendor_id')\ndummy.drop(dummy.columns[0], axis=1, inplace=True) #enlever la première colonne qui est l'index\ndata = pd.concat([data,dummy], axis = 1)\n\ndummy = pd.get_dummies(data.month, prefix='month')\ndummy.drop(dummy.columns[0], axis=1, inplace=True) #enlever la première colonne qui est l'index\ndata = pd.concat([data,dummy], axis = 1)\n\ndummy = pd.get_dummies(data.weekday_num, prefix='weekday_num')\ndummy.drop(dummy.columns[0], axis=1, inplace=True) #enlever la première colonne qui est l'index\ndata = pd.concat([data,dummy], axis = 1)\n\ndummy = pd.get_dummies(data.pickup_hour, prefix='pickup_hour')\ndummy.drop(dummy.columns[0], axis=1, inplace=True) #enlever la première colonne qui est l'index\ndata = pd.concat([data,dummy], axis = 1)\n\ndummy = pd.get_dummies(data.passenger_count, prefix='passenger_count')\ndummy.drop(dummy.columns[0], axis=1, inplace=True) #enlever la première colonne qui est l'index\ndata = pd.concat([data,dummy], axis = 1)",
      "execution_count": null,
      "outputs": []
    },
    {
      "metadata": {
        "trusted": true,
        "_uuid": "fb39e616c7b8b9065075b08e90362ab2e962780c"
      },
      "cell_type": "code",
      "source": "# Découper les features catégoriques en plusieurs variables numériques / indicatrices\n\ndummy = pd.get_dummies(test.store_and_fwd_flag, prefix='flag')\ndummy.drop(dummy.columns[0], axis=1, inplace=True) #enlever la première colonne qui est l'index\ntest = pd.concat([test,dummy], axis = 1)\n\ndummy = pd.get_dummies(test.vendor_id, prefix='vendor_id')\ndummy.drop(dummy.columns[0], axis=1, inplace=True) #enlever la première colonne qui est l'index\ntest = pd.concat([test,dummy], axis = 1)\n\ndummy = pd.get_dummies(test.month, prefix='month')\ndummy.drop(dummy.columns[0], axis=1, inplace=True) #enlever la première colonne qui est l'index\ntest = pd.concat([test,dummy], axis = 1)\n\ndummy = pd.get_dummies(test.weekday_num, prefix='weekday_num')\ndummy.drop(dummy.columns[0], axis=1, inplace=True) #enlever la première colonne qui est l'index\ntest = pd.concat([test,dummy], axis = 1)\n\ndummy = pd.get_dummies(test.pickup_hour, prefix='pickup_hour')\ndummy.drop(dummy.columns[0], axis=1, inplace=True) #enlever la première colonne qui est l'index\ntest = pd.concat([test,dummy], axis = 1)\n\ndummy = pd.get_dummies(test.passenger_count, prefix='passenger_count')\ndummy.drop(dummy.columns[0], axis=1, inplace=True) #enlever la première colonne qui est l'index\ntest = pd.concat([test,dummy], axis = 1)",
      "execution_count": null,
      "outputs": []
    },
    {
      "metadata": {
        "trusted": true,
        "_uuid": "8f7761502bb60c81efe8af26e63e76801805cbf4"
      },
      "cell_type": "code",
      "source": "data.head()",
      "execution_count": null,
      "outputs": []
    },
    {
      "metadata": {
        "trusted": true,
        "_uuid": "7378d90ee9782ebc19a7d844623660a5821d9585"
      },
      "cell_type": "code",
      "source": "data.shape",
      "execution_count": null,
      "outputs": []
    },
    {
      "metadata": {
        "trusted": true,
        "_uuid": "09c548609577e345c9d6ebfd0490e9aec4c2524a"
      },
      "cell_type": "code",
      "source": "data.describe()",
      "execution_count": null,
      "outputs": []
    },
    {
      "metadata": {
        "trusted": true,
        "_uuid": "f80f510fea7d35b13cd077986b29cf01b9edea8c"
      },
      "cell_type": "code",
      "source": "len(data[data['distance'] == 0])",
      "execution_count": null,
      "outputs": []
    },
    {
      "metadata": {
        "trusted": true,
        "_uuid": "4a5112e1ae3d6e1add6df3d06f2ae09f1d4591b0"
      },
      "cell_type": "code",
      "source": "test.head()",
      "execution_count": null,
      "outputs": []
    },
    {
      "metadata": {
        "trusted": true,
        "_uuid": "b8d7506e6a2558ec02bb0aa31bb7a073265df2b3"
      },
      "cell_type": "code",
      "source": "test.shape",
      "execution_count": null,
      "outputs": []
    },
    {
      "metadata": {
        "trusted": true,
        "_uuid": "61c93a9e0677e37f86453f468d8e40527a4a31ef"
      },
      "cell_type": "code",
      "source": "test.describe()",
      "execution_count": null,
      "outputs": []
    },
    {
      "metadata": {
        "trusted": true,
        "_uuid": "c0e64f053d398f8f608a3888d9b036149fb3805c"
      },
      "cell_type": "code",
      "source": "len(test[test['distance'] == 0])",
      "execution_count": null,
      "outputs": []
    },
    {
      "metadata": {
        "_uuid": "4779638d5fc6fc2d9a140f595a43b6095dbd118e"
      },
      "cell_type": "markdown",
      "source": "# Analyse univariée\n#### On va analyser et étudier les variables une par une"
    },
    {
      "metadata": {
        "trusted": true,
        "_uuid": "4a697642de2314e0a37544522282c20fe1a07588"
      },
      "cell_type": "code",
      "source": "pd.options.display.float_format = '{:.2f}'.format #Basculer l'affichage des floats en format scientifique",
      "execution_count": null,
      "outputs": []
    },
    {
      "metadata": {
        "trusted": true,
        "_uuid": "708e8114f6680e5da8aa3f71b2b66da82fad9758"
      },
      "cell_type": "code",
      "source": "data.passenger_count.value_counts()",
      "execution_count": null,
      "outputs": []
    },
    {
      "metadata": {
        "trusted": true,
        "_uuid": "9c9f5e6015501ba360225ec248cd83911dac0dcd"
      },
      "cell_type": "code",
      "source": "test.passenger_count.value_counts()",
      "execution_count": null,
      "outputs": []
    },
    {
      "metadata": {
        "trusted": true,
        "_uuid": "a89a97d1f554c4456d1e7b88f3a804be14657ecb"
      },
      "cell_type": "code",
      "source": "print(data.passenger_count.describe())\nprint(f'median = {data.passenger_count.median()}')\n# On remarque que la moyenne, la médiane et les modes sont presque égaux à 1",
      "execution_count": null,
      "outputs": []
    },
    {
      "metadata": {
        "trusted": true,
        "_uuid": "0f6aecdff6cc00c0b1138fa28608d5e564414049"
      },
      "cell_type": "code",
      "source": "# Alors on remplace le passenger_count 0 par 1\ndata['passenger_count'] = data.passenger_count.map(lambda x: 1 if x == 0 else x)\ntest['passenger_count'] = test.passenger_count.map(lambda x: 1 if x == 0 else x)\n",
      "execution_count": null,
      "outputs": []
    },
    {
      "metadata": {
        "trusted": true,
        "_uuid": "27409ce79f29d687c7b5f0cd53da4f975acafe3f"
      },
      "cell_type": "code",
      "source": "# On vire les valeurs des passenger_count qui sont supérieures à 7, 8, 9\ndata = data[data.passenger_count <= 6]\ntest = test[test.passenger_count <= 6]",
      "execution_count": null,
      "outputs": []
    },
    {
      "metadata": {
        "trusted": true,
        "_uuid": "df0177dfb616bc66386914fe3d7a31e5a77bb13a"
      },
      "cell_type": "code",
      "source": "data.passenger_count.value_counts()\ntest.passenger_count.value_counts()",
      "execution_count": null,
      "outputs": []
    },
    {
      "metadata": {
        "trusted": true,
        "_uuid": "1f6df196ad1628b1a028c7bb1f40a2c3ae79ffba"
      },
      "cell_type": "code",
      "source": "#Nombre de courses par nombre de passagers\nsns.countplot(data.passenger_count)\nplt.show()",
      "execution_count": null,
      "outputs": []
    },
    {
      "metadata": {
        "trusted": true,
        "_uuid": "ebba8d0c5c62d8cacc5cac245977220833dac468"
      },
      "cell_type": "code",
      "source": "data.dtypes.reset_index()",
      "execution_count": null,
      "outputs": []
    },
    {
      "metadata": {
        "trusted": true,
        "_uuid": "2ccad4bb9523883704c2d134c227f3629a578e26"
      },
      "cell_type": "code",
      "source": "# Distribution des horaires de départs des courses sur 24 heures\nsns.countplot(data.pickup_hour)\nplt.show()",
      "execution_count": null,
      "outputs": []
    },
    {
      "metadata": {
        "_uuid": "88e1dd6fca9c4ede8b73ef354f105e858d8d070d"
      },
      "cell_type": "markdown",
      "source": "# Séléction des features"
    },
    {
      "metadata": {
        "trusted": true,
        "_uuid": "7e1bbd77018fcdd9a4fb8d513fe107a3e1c17193"
      },
      "cell_type": "code",
      "source": "#Vérifiez d'abord l'index des features et le label\nlist(zip( range(0,len(data.columns)),data.columns))",
      "execution_count": null,
      "outputs": []
    },
    {
      "metadata": {
        "trusted": true,
        "_uuid": "2a0f9b4ed61a11214cdd0fa114d1cadf5ecb7b91"
      },
      "cell_type": "code",
      "source": "SELECTED_COLUMNS = ['passenger_count', 'distance']\nX_two_features = data[SELECTED_COLUMNS]\nX_two_features.head()\ny_two_features = np.log1p(data['trip_duration'])\n",
      "execution_count": null,
      "outputs": []
    },
    {
      "metadata": {
        "trusted": true,
        "_uuid": "deaf15c12636d8a148a3d721f1579f78cc077964"
      },
      "cell_type": "code",
      "source": "X_two_features.shape, y_two_features.shape",
      "execution_count": null,
      "outputs": []
    },
    {
      "metadata": {
        "trusted": true,
        "_uuid": "10342da926946fe7901d7e84f644f7d1d2705c4c"
      },
      "cell_type": "code",
      "source": "rf = RandomForestRegressor(random_state=42)\nrf.fit(X_two_features, y_two_features)",
      "execution_count": null,
      "outputs": []
    },
    {
      "metadata": {
        "trusted": true,
        "_uuid": "80fe9c4019d357b8402eb5ffdbb5e372e450a926"
      },
      "cell_type": "code",
      "source": "cv_scores = -cross_val_score(rf, X_two_features, y_two_features, cv=3, scoring='neg_mean_squared_error')\ncv_scores",
      "execution_count": null,
      "outputs": []
    },
    {
      "metadata": {
        "trusted": true,
        "_uuid": "c45a7d196baa70d9e929bcd66faf424dd7509df9"
      },
      "cell_type": "code",
      "source": "np.mean(cv_scores)",
      "execution_count": null,
      "outputs": []
    },
    {
      "metadata": {
        "trusted": true,
        "_uuid": "a79f866ecaf7281c1aa793eb1796503dae950b39"
      },
      "cell_type": "code",
      "source": "X_test = test[SELECTED_COLUMNS]\npredictions = np.exp(rf.predict(X_test))-np.ones(len(X_test))\n\nX_test.shape\npred = pd.DataFrame(predictions, index=test['id'])\npred.columns = ['trip_duration']\npred.to_csv(\"submission_.csv\")\n\npd.read_csv('submission_.csv').head()",
      "execution_count": null,
      "outputs": []
    },
    {
      "metadata": {
        "trusted": true,
        "_uuid": "d3ca8497b3a975530786e3bff22d118fc9e7952e"
      },
      "cell_type": "code",
      "source": "",
      "execution_count": null,
      "outputs": []
    }
  ],
  "metadata": {
    "kernelspec": {
      "display_name": "Python 3",
      "language": "python",
      "name": "python3"
    },
    "language_info": {
      "name": "python",
      "version": "3.6.6",
      "mimetype": "text/x-python",
      "codemirror_mode": {
        "name": "ipython",
        "version": 3
      },
      "pygments_lexer": "ipython3",
      "nbconvert_exporter": "python",
      "file_extension": ".py"
    }
  },
  "nbformat": 4,
  "nbformat_minor": 1
}