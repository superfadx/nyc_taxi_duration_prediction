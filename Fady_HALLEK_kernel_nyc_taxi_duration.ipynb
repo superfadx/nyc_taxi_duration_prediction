{
  "cells": [
    {
      "metadata": {
        "_uuid": "8f2839f25d086af736a60e9eeb907d3b93b6e0e5",
        "_cell_guid": "b1076dfc-b9ad-4769-8c92-a6c4dae69d19",
        "trusted": true
      },
      "cell_type": "code",
      "source": "# This Python 3 environment comes with many helpful analytics libraries installed\n# It is defined by the kaggle/python docker image: https://github.com/kaggle/docker-python\n# For example, here's several helpful packages to load in \n\n\n# Input data files are available in the \"../input/\" directory.\n# For example, running this (by clicking run or pressing Shift+Enter) will list the files in the input directory\n\nimport os\n\nimport numpy as np # linear algebra\nimport pandas as pd # data processing, CSV file I/O (e.g. pd.read_csv)\nfrom haversine import haversine\nimport seaborn as sns\nimport matplotlib.pyplot as plt\nfrom sklearn.ensemble import RandomForestRegressor\nfrom sklearn import metrics\nfrom sklearn.model_selection import train_test_split, cross_val_score\nimport warnings\nwarnings.filterwarnings('ignore')\n\n\n\nprint(os.listdir(\"../input\"))\n\n# Any results you write to the current directory are saved as output.",
      "execution_count": 1,
      "outputs": [
        {
          "output_type": "stream",
          "text": "['test.csv', 'test', 'sample_submission', 'train', 'train.csv', 'sample_submission.csv']\n",
          "name": "stdout"
        }
      ]
    },
    {
      "metadata": {
        "_cell_guid": "79c7e3d0-c299-4dcb-8224-4455121ee9b0",
        "_uuid": "d629ff2d2480ee46fbb7e2d37f6b5fab8052498a",
        "trusted": true
      },
      "cell_type": "markdown",
      "source": "# 1 Importation des données"
    },
    {
      "metadata": {
        "trusted": true,
        "scrolled": false,
        "_uuid": "544de7e139436bae84278f8fc8b4d0548e9f23c8"
      },
      "cell_type": "code",
      "source": "# Importation du fichier CSV (en indiquant que la colonne IDENTITY est la colonne id du dataset)\ndata = pd.read_csv('../input/train.csv') #, index_col = 0)",
      "execution_count": 2,
      "outputs": []
    },
    {
      "metadata": {
        "trusted": true,
        "_uuid": "b0419d0891986b5c48769cf9a1cebcd78a3d03a1"
      },
      "cell_type": "code",
      "source": "test = pd.read_csv('../input/test.csv') #, index_col = 0)",
      "execution_count": 3,
      "outputs": []
    },
    {
      "metadata": {
        "trusted": true,
        "_uuid": "20209e8601d92416159932af4c3bee21f3b5e124"
      },
      "cell_type": "code",
      "source": "test.shape",
      "execution_count": 4,
      "outputs": [
        {
          "output_type": "execute_result",
          "execution_count": 4,
          "data": {
            "text/plain": "(625134, 9)"
          },
          "metadata": {}
        }
      ]
    },
    {
      "metadata": {
        "trusted": true,
        "_uuid": "837267d1efa600a9ee5aad238050e3855a0552d5"
      },
      "cell_type": "code",
      "source": "test.head()",
      "execution_count": 5,
      "outputs": [
        {
          "output_type": "execute_result",
          "execution_count": 5,
          "data": {
            "text/plain": "          id  vendor_id         ...         dropoff_latitude  store_and_fwd_flag\n0  id3004672          1         ...                40.756680                   N\n1  id3505355          1         ...                40.655403                   N\n2  id1217141          1         ...                40.729523                   N\n3  id2150126          2         ...                40.730469                   N\n4  id1598245          1         ...                40.755890                   N\n\n[5 rows x 9 columns]",
            "text/html": "<div>\n<style scoped>\n    .dataframe tbody tr th:only-of-type {\n        vertical-align: middle;\n    }\n\n    .dataframe tbody tr th {\n        vertical-align: top;\n    }\n\n    .dataframe thead th {\n        text-align: right;\n    }\n</style>\n<table border=\"1\" class=\"dataframe\">\n  <thead>\n    <tr style=\"text-align: right;\">\n      <th></th>\n      <th>id</th>\n      <th>vendor_id</th>\n      <th>pickup_datetime</th>\n      <th>passenger_count</th>\n      <th>pickup_longitude</th>\n      <th>pickup_latitude</th>\n      <th>dropoff_longitude</th>\n      <th>dropoff_latitude</th>\n      <th>store_and_fwd_flag</th>\n    </tr>\n  </thead>\n  <tbody>\n    <tr>\n      <th>0</th>\n      <td>id3004672</td>\n      <td>1</td>\n      <td>2016-06-30 23:59:58</td>\n      <td>1</td>\n      <td>-73.988129</td>\n      <td>40.732029</td>\n      <td>-73.990173</td>\n      <td>40.756680</td>\n      <td>N</td>\n    </tr>\n    <tr>\n      <th>1</th>\n      <td>id3505355</td>\n      <td>1</td>\n      <td>2016-06-30 23:59:53</td>\n      <td>1</td>\n      <td>-73.964203</td>\n      <td>40.679993</td>\n      <td>-73.959808</td>\n      <td>40.655403</td>\n      <td>N</td>\n    </tr>\n    <tr>\n      <th>2</th>\n      <td>id1217141</td>\n      <td>1</td>\n      <td>2016-06-30 23:59:47</td>\n      <td>1</td>\n      <td>-73.997437</td>\n      <td>40.737583</td>\n      <td>-73.986160</td>\n      <td>40.729523</td>\n      <td>N</td>\n    </tr>\n    <tr>\n      <th>3</th>\n      <td>id2150126</td>\n      <td>2</td>\n      <td>2016-06-30 23:59:41</td>\n      <td>1</td>\n      <td>-73.956070</td>\n      <td>40.771900</td>\n      <td>-73.986427</td>\n      <td>40.730469</td>\n      <td>N</td>\n    </tr>\n    <tr>\n      <th>4</th>\n      <td>id1598245</td>\n      <td>1</td>\n      <td>2016-06-30 23:59:33</td>\n      <td>1</td>\n      <td>-73.970215</td>\n      <td>40.761475</td>\n      <td>-73.961510</td>\n      <td>40.755890</td>\n      <td>N</td>\n    </tr>\n  </tbody>\n</table>\n</div>"
          },
          "metadata": {}
        }
      ]
    },
    {
      "metadata": {
        "_uuid": "c23ad3d4dc668209cbe3afa6a1c0b386c9bb25ff"
      },
      "cell_type": "markdown",
      "source": "# 2 Analyse des données"
    },
    {
      "metadata": {
        "trusted": true,
        "_uuid": "c83c0999b6b155e53294a0917f0cd148ad97bacb"
      },
      "cell_type": "code",
      "source": "data.head()",
      "execution_count": 6,
      "outputs": [
        {
          "output_type": "execute_result",
          "execution_count": 6,
          "data": {
            "text/plain": "          id  vendor_id      ...      store_and_fwd_flag trip_duration\n0  id2875421          2      ...                       N           455\n1  id2377394          1      ...                       N           663\n2  id3858529          2      ...                       N          2124\n3  id3504673          2      ...                       N           429\n4  id2181028          2      ...                       N           435\n\n[5 rows x 11 columns]",
            "text/html": "<div>\n<style scoped>\n    .dataframe tbody tr th:only-of-type {\n        vertical-align: middle;\n    }\n\n    .dataframe tbody tr th {\n        vertical-align: top;\n    }\n\n    .dataframe thead th {\n        text-align: right;\n    }\n</style>\n<table border=\"1\" class=\"dataframe\">\n  <thead>\n    <tr style=\"text-align: right;\">\n      <th></th>\n      <th>id</th>\n      <th>vendor_id</th>\n      <th>pickup_datetime</th>\n      <th>dropoff_datetime</th>\n      <th>passenger_count</th>\n      <th>pickup_longitude</th>\n      <th>pickup_latitude</th>\n      <th>dropoff_longitude</th>\n      <th>dropoff_latitude</th>\n      <th>store_and_fwd_flag</th>\n      <th>trip_duration</th>\n    </tr>\n  </thead>\n  <tbody>\n    <tr>\n      <th>0</th>\n      <td>id2875421</td>\n      <td>2</td>\n      <td>2016-03-14 17:24:55</td>\n      <td>2016-03-14 17:32:30</td>\n      <td>1</td>\n      <td>-73.982155</td>\n      <td>40.767937</td>\n      <td>-73.964630</td>\n      <td>40.765602</td>\n      <td>N</td>\n      <td>455</td>\n    </tr>\n    <tr>\n      <th>1</th>\n      <td>id2377394</td>\n      <td>1</td>\n      <td>2016-06-12 00:43:35</td>\n      <td>2016-06-12 00:54:38</td>\n      <td>1</td>\n      <td>-73.980415</td>\n      <td>40.738564</td>\n      <td>-73.999481</td>\n      <td>40.731152</td>\n      <td>N</td>\n      <td>663</td>\n    </tr>\n    <tr>\n      <th>2</th>\n      <td>id3858529</td>\n      <td>2</td>\n      <td>2016-01-19 11:35:24</td>\n      <td>2016-01-19 12:10:48</td>\n      <td>1</td>\n      <td>-73.979027</td>\n      <td>40.763939</td>\n      <td>-74.005333</td>\n      <td>40.710087</td>\n      <td>N</td>\n      <td>2124</td>\n    </tr>\n    <tr>\n      <th>3</th>\n      <td>id3504673</td>\n      <td>2</td>\n      <td>2016-04-06 19:32:31</td>\n      <td>2016-04-06 19:39:40</td>\n      <td>1</td>\n      <td>-74.010040</td>\n      <td>40.719971</td>\n      <td>-74.012268</td>\n      <td>40.706718</td>\n      <td>N</td>\n      <td>429</td>\n    </tr>\n    <tr>\n      <th>4</th>\n      <td>id2181028</td>\n      <td>2</td>\n      <td>2016-03-26 13:30:55</td>\n      <td>2016-03-26 13:38:10</td>\n      <td>1</td>\n      <td>-73.973053</td>\n      <td>40.793209</td>\n      <td>-73.972923</td>\n      <td>40.782520</td>\n      <td>N</td>\n      <td>435</td>\n    </tr>\n  </tbody>\n</table>\n</div>"
          },
          "metadata": {}
        }
      ]
    },
    {
      "metadata": {
        "trusted": true,
        "_uuid": "83a6473f65fd846b001c02c519e81aa50140ffe3"
      },
      "cell_type": "code",
      "source": "data.info",
      "execution_count": 7,
      "outputs": [
        {
          "output_type": "execute_result",
          "execution_count": 7,
          "data": {
            "text/plain": "<bound method DataFrame.info of                 id  vendor_id      ...      store_and_fwd_flag trip_duration\n0        id2875421          2      ...                       N           455\n1        id2377394          1      ...                       N           663\n2        id3858529          2      ...                       N          2124\n3        id3504673          2      ...                       N           429\n4        id2181028          2      ...                       N           435\n5        id0801584          2      ...                       N           443\n6        id1813257          1      ...                       N           341\n7        id1324603          2      ...                       N          1551\n8        id1301050          1      ...                       N           255\n9        id0012891          2      ...                       N          1225\n10       id1436371          2      ...                       N          1274\n11       id1299289          2      ...                       N          1128\n12       id1187965          2      ...                       N          1114\n13       id0799785          2      ...                       N           260\n14       id2900608          2      ...                       N          1414\n15       id3319787          1      ...                       N           211\n16       id3379579          2      ...                       N          2316\n17       id1154431          1      ...                       N           731\n18       id3552682          1      ...                       N          1317\n19       id3390316          2      ...                       N           251\n20       id2070428          1      ...                       N           486\n21       id0809232          2      ...                       N           652\n22       id2352683          1      ...                       N           423\n23       id1603037          1      ...                       N          1163\n24       id3321406          2      ...                       N          2485\n25       id0129640          2      ...                       N          1283\n26       id3587298          1      ...                       N          1130\n27       id2104175          1      ...                       N           694\n28       id3973319          2      ...                       N           892\n29       id1410897          1      ...                       N          2331\n...            ...        ...      ...                     ...           ...\n1458614  id2061444          2      ...                       N           338\n1458615  id3182230          1      ...                       N           857\n1458616  id2822294          1      ...                       N           488\n1458617  id0820021          2      ...                       N           208\n1458618  id1046767          2      ...                       N           367\n1458619  id1083860          2      ...                       N           708\n1458620  id0694577          2      ...                       N          1162\n1458621  id3267199          2      ...                       N          2355\n1458622  id0125435          2      ...                       N           552\n1458623  id3369208          1      ...                       N           554\n1458624  id3482902          1      ...                       N           152\n1458625  id3730733          2      ...                       N          2002\n1458626  id0155863          2      ...                       N           244\n1458627  id0439281          2      ...                       N           880\n1458628  id0986544          2      ...                       N           351\n1458629  id3109086          2      ...                       N           601\n1458630  id0287353          2      ...                       N           549\n1458631  id1724231          1      ...                       N           342\n1458632  id0469946          2      ...                       N           777\n1458633  id2432342          1      ...                       N           979\n1458634  id3445276          1      ...                       N           972\n1458635  id3027038          2      ...                       N           237\n1458636  id0405770          2      ...                       N           800\n1458637  id1920898          1      ...                       N           760\n1458638  id1454193          2      ...                       N           414\n1458639  id2376096          2      ...                       N           778\n1458640  id1049543          1      ...                       N           655\n1458641  id2304944          2      ...                       N           764\n1458642  id2714485          1      ...                       N           373\n1458643  id1209952          1      ...                       N           198\n\n[1458644 rows x 11 columns]>"
          },
          "metadata": {}
        }
      ]
    },
    {
      "metadata": {
        "trusted": true,
        "_uuid": "7fcc77e75e12995c789ff6a219df61b2a6f1383d"
      },
      "cell_type": "code",
      "source": "test.shape",
      "execution_count": 8,
      "outputs": [
        {
          "output_type": "execute_result",
          "execution_count": 8,
          "data": {
            "text/plain": "(625134, 9)"
          },
          "metadata": {}
        }
      ]
    },
    {
      "metadata": {
        "_uuid": "2364e19f7391778a398e5eab6120a4a3778ceee9"
      },
      "cell_type": "markdown",
      "source": "# 3 Preprocessing"
    },
    {
      "metadata": {
        "trusted": true,
        "_uuid": "5daf9d3abc3295bd012d8206767c17bb8504e362"
      },
      "cell_type": "code",
      "source": "# Convertir les dates de timestamp en datetime afin d'extraire d'autres détails importants de la date\ndata['pickup_datetime'] = pd.to_datetime(data['pickup_datetime'])\ndata['dropoff_datetime'] = pd.to_datetime(data['dropoff_datetime'])\n\n# Convertir les dates de timestamp en datetime afin d'extraire d'autres détails importants de la date\ntest['pickup_datetime'] = pd.to_datetime(test['pickup_datetime'])",
      "execution_count": 9,
      "outputs": []
    },
    {
      "metadata": {
        "trusted": true,
        "_uuid": "7866f2ca7f8cc4317d89d577bf2742dc0868bae8"
      },
      "cell_type": "code",
      "source": "# Extraction, Calcul et affectation des nouvelles données relative à la pickup_date dans le dataset\ndata['weekday'] = data.pickup_datetime.dt.weekday_name\ndata['month'] = data.pickup_datetime.dt.month\ndata['weekday_num'] = data.pickup_datetime.dt.weekday\ndata['pickup_hour'] = data.pickup_datetime.dt.hour\n\n# Extraction, Calcul et affectation des nouvelles données relative à la pickup_date dans le dataset\ntest['weekday'] = test.pickup_datetime.dt.weekday_name\ntest['month'] = test.pickup_datetime.dt.month\ntest['weekday_num'] = test.pickup_datetime.dt.weekday\ntest['pickup_hour'] = test.pickup_datetime.dt.hour",
      "execution_count": 10,
      "outputs": []
    },
    {
      "metadata": {
        "trusted": true,
        "_uuid": "9bed8552db92675615a3c5059f5ff1da793a9225"
      },
      "cell_type": "code",
      "source": "# Fonction de calcul de distance entre les points de départs et les points d'arrivées\n# Elle prend en paramètre le dataset, et renvoie un vecteur contenant les distances entre ces points\n# Elle applique la méthode de Haversine pour le calcul des distances entre deux coordonnées\ndef calcul_distance(df):\n    pickedup = (df['pickup_latitude'], df['pickup_longitude'])\n    dropoff = (df['dropoff_latitude'], df['dropoff_longitude'])\n    return haversine(pickedup, dropoff)",
      "execution_count": 11,
      "outputs": []
    },
    {
      "metadata": {
        "trusted": true,
        "_uuid": "311de98457bb8fc7a9d084a1be7a7a6def1eae55"
      },
      "cell_type": "code",
      "source": "# Calcul des distances entre les points de départs et les points d'arrivées\n# et les mettant dans une nouvelle colonne distance\ndata['distance'] = data.apply(lambda x : calcul_distance(x), axis = 1)",
      "execution_count": 12,
      "outputs": []
    },
    {
      "metadata": {
        "trusted": true,
        "_uuid": "b88853f4c8a0878059dd7a6e61f6589d57b83a3b"
      },
      "cell_type": "code",
      "source": "test['distance'] = test.apply(lambda x : calcul_distance(x), axis = 1)",
      "execution_count": 13,
      "outputs": []
    },
    {
      "metadata": {
        "trusted": true,
        "_uuid": "c3be99b1e6bfbf191630a303be2d931cff9ee27f"
      },
      "cell_type": "code",
      "source": "data.dtypes.reset_index()",
      "execution_count": 14,
      "outputs": [
        {
          "output_type": "execute_result",
          "execution_count": 14,
          "data": {
            "text/plain": "                 index               0\n0                   id          object\n1            vendor_id           int64\n2      pickup_datetime  datetime64[ns]\n3     dropoff_datetime  datetime64[ns]\n4      passenger_count           int64\n5     pickup_longitude         float64\n6      pickup_latitude         float64\n7    dropoff_longitude         float64\n8     dropoff_latitude         float64\n9   store_and_fwd_flag          object\n10       trip_duration           int64\n11             weekday          object\n12               month           int64\n13         weekday_num           int64\n14         pickup_hour           int64\n15            distance         float64",
            "text/html": "<div>\n<style scoped>\n    .dataframe tbody tr th:only-of-type {\n        vertical-align: middle;\n    }\n\n    .dataframe tbody tr th {\n        vertical-align: top;\n    }\n\n    .dataframe thead th {\n        text-align: right;\n    }\n</style>\n<table border=\"1\" class=\"dataframe\">\n  <thead>\n    <tr style=\"text-align: right;\">\n      <th></th>\n      <th>index</th>\n      <th>0</th>\n    </tr>\n  </thead>\n  <tbody>\n    <tr>\n      <th>0</th>\n      <td>id</td>\n      <td>object</td>\n    </tr>\n    <tr>\n      <th>1</th>\n      <td>vendor_id</td>\n      <td>int64</td>\n    </tr>\n    <tr>\n      <th>2</th>\n      <td>pickup_datetime</td>\n      <td>datetime64[ns]</td>\n    </tr>\n    <tr>\n      <th>3</th>\n      <td>dropoff_datetime</td>\n      <td>datetime64[ns]</td>\n    </tr>\n    <tr>\n      <th>4</th>\n      <td>passenger_count</td>\n      <td>int64</td>\n    </tr>\n    <tr>\n      <th>5</th>\n      <td>pickup_longitude</td>\n      <td>float64</td>\n    </tr>\n    <tr>\n      <th>6</th>\n      <td>pickup_latitude</td>\n      <td>float64</td>\n    </tr>\n    <tr>\n      <th>7</th>\n      <td>dropoff_longitude</td>\n      <td>float64</td>\n    </tr>\n    <tr>\n      <th>8</th>\n      <td>dropoff_latitude</td>\n      <td>float64</td>\n    </tr>\n    <tr>\n      <th>9</th>\n      <td>store_and_fwd_flag</td>\n      <td>object</td>\n    </tr>\n    <tr>\n      <th>10</th>\n      <td>trip_duration</td>\n      <td>int64</td>\n    </tr>\n    <tr>\n      <th>11</th>\n      <td>weekday</td>\n      <td>object</td>\n    </tr>\n    <tr>\n      <th>12</th>\n      <td>month</td>\n      <td>int64</td>\n    </tr>\n    <tr>\n      <th>13</th>\n      <td>weekday_num</td>\n      <td>int64</td>\n    </tr>\n    <tr>\n      <th>14</th>\n      <td>pickup_hour</td>\n      <td>int64</td>\n    </tr>\n    <tr>\n      <th>15</th>\n      <td>distance</td>\n      <td>float64</td>\n    </tr>\n  </tbody>\n</table>\n</div>"
          },
          "metadata": {}
        }
      ]
    },
    {
      "metadata": {
        "trusted": true,
        "_uuid": "0cb6770efe9b84e0caf24edf29a8c77f8def2ba5"
      },
      "cell_type": "code",
      "source": "test.dtypes.reset_index()",
      "execution_count": 15,
      "outputs": [
        {
          "output_type": "execute_result",
          "execution_count": 15,
          "data": {
            "text/plain": "                 index               0\n0                   id          object\n1            vendor_id           int64\n2      pickup_datetime  datetime64[ns]\n3      passenger_count           int64\n4     pickup_longitude         float64\n5      pickup_latitude         float64\n6    dropoff_longitude         float64\n7     dropoff_latitude         float64\n8   store_and_fwd_flag          object\n9              weekday          object\n10               month           int64\n11         weekday_num           int64\n12         pickup_hour           int64\n13            distance         float64",
            "text/html": "<div>\n<style scoped>\n    .dataframe tbody tr th:only-of-type {\n        vertical-align: middle;\n    }\n\n    .dataframe tbody tr th {\n        vertical-align: top;\n    }\n\n    .dataframe thead th {\n        text-align: right;\n    }\n</style>\n<table border=\"1\" class=\"dataframe\">\n  <thead>\n    <tr style=\"text-align: right;\">\n      <th></th>\n      <th>index</th>\n      <th>0</th>\n    </tr>\n  </thead>\n  <tbody>\n    <tr>\n      <th>0</th>\n      <td>id</td>\n      <td>object</td>\n    </tr>\n    <tr>\n      <th>1</th>\n      <td>vendor_id</td>\n      <td>int64</td>\n    </tr>\n    <tr>\n      <th>2</th>\n      <td>pickup_datetime</td>\n      <td>datetime64[ns]</td>\n    </tr>\n    <tr>\n      <th>3</th>\n      <td>passenger_count</td>\n      <td>int64</td>\n    </tr>\n    <tr>\n      <th>4</th>\n      <td>pickup_longitude</td>\n      <td>float64</td>\n    </tr>\n    <tr>\n      <th>5</th>\n      <td>pickup_latitude</td>\n      <td>float64</td>\n    </tr>\n    <tr>\n      <th>6</th>\n      <td>dropoff_longitude</td>\n      <td>float64</td>\n    </tr>\n    <tr>\n      <th>7</th>\n      <td>dropoff_latitude</td>\n      <td>float64</td>\n    </tr>\n    <tr>\n      <th>8</th>\n      <td>store_and_fwd_flag</td>\n      <td>object</td>\n    </tr>\n    <tr>\n      <th>9</th>\n      <td>weekday</td>\n      <td>object</td>\n    </tr>\n    <tr>\n      <th>10</th>\n      <td>month</td>\n      <td>int64</td>\n    </tr>\n    <tr>\n      <th>11</th>\n      <td>weekday_num</td>\n      <td>int64</td>\n    </tr>\n    <tr>\n      <th>12</th>\n      <td>pickup_hour</td>\n      <td>int64</td>\n    </tr>\n    <tr>\n      <th>13</th>\n      <td>distance</td>\n      <td>float64</td>\n    </tr>\n  </tbody>\n</table>\n</div>"
          },
          "metadata": {}
        }
      ]
    },
    {
      "metadata": {
        "trusted": true,
        "_uuid": "536a1b5311b171873d930def89cb64fc6b5224ab"
      },
      "cell_type": "code",
      "source": "# Découper les features catégoriques en plusieurs variables numériques / indicatrices\n\ndummy = pd.get_dummies(data.store_and_fwd_flag, prefix='flag')\ndummy.drop(dummy.columns[0], axis=1, inplace=True) #enlever la première colonne qui est l'index\ndata = pd.concat([data,dummy], axis = 1)\n\ndummy = pd.get_dummies(data.vendor_id, prefix='vendor_id')\ndummy.drop(dummy.columns[0], axis=1, inplace=True) #enlever la première colonne qui est l'index\ndata = pd.concat([data,dummy], axis = 1)\n\ndummy = pd.get_dummies(data.month, prefix='month')\ndummy.drop(dummy.columns[0], axis=1, inplace=True) #enlever la première colonne qui est l'index\ndata = pd.concat([data,dummy], axis = 1)\n\ndummy = pd.get_dummies(data.weekday_num, prefix='weekday_num')\ndummy.drop(dummy.columns[0], axis=1, inplace=True) #enlever la première colonne qui est l'index\ndata = pd.concat([data,dummy], axis = 1)\n\ndummy = pd.get_dummies(data.pickup_hour, prefix='pickup_hour')\ndummy.drop(dummy.columns[0], axis=1, inplace=True) #enlever la première colonne qui est l'index\ndata = pd.concat([data,dummy], axis = 1)\n\ndummy = pd.get_dummies(data.passenger_count, prefix='passenger_count')\ndummy.drop(dummy.columns[0], axis=1, inplace=True) #enlever la première colonne qui est l'index\ndata = pd.concat([data,dummy], axis = 1)",
      "execution_count": 16,
      "outputs": []
    },
    {
      "metadata": {
        "trusted": true,
        "_uuid": "340c49a1bf11123be87cab8248eaa68fcaaaf7f8"
      },
      "cell_type": "code",
      "source": "test.head()",
      "execution_count": 17,
      "outputs": [
        {
          "output_type": "execute_result",
          "execution_count": 17,
          "data": {
            "text/plain": "          id  vendor_id    ...    pickup_hour  distance\n0  id3004672          1    ...             23  2.746430\n1  id3505355          1    ...             23  2.759243\n2  id1217141          1    ...             23  1.306157\n3  id2150126          2    ...             23  5.269095\n4  id1598245          1    ...             23  0.960843\n\n[5 rows x 14 columns]",
            "text/html": "<div>\n<style scoped>\n    .dataframe tbody tr th:only-of-type {\n        vertical-align: middle;\n    }\n\n    .dataframe tbody tr th {\n        vertical-align: top;\n    }\n\n    .dataframe thead th {\n        text-align: right;\n    }\n</style>\n<table border=\"1\" class=\"dataframe\">\n  <thead>\n    <tr style=\"text-align: right;\">\n      <th></th>\n      <th>id</th>\n      <th>vendor_id</th>\n      <th>pickup_datetime</th>\n      <th>passenger_count</th>\n      <th>pickup_longitude</th>\n      <th>pickup_latitude</th>\n      <th>dropoff_longitude</th>\n      <th>dropoff_latitude</th>\n      <th>store_and_fwd_flag</th>\n      <th>weekday</th>\n      <th>month</th>\n      <th>weekday_num</th>\n      <th>pickup_hour</th>\n      <th>distance</th>\n    </tr>\n  </thead>\n  <tbody>\n    <tr>\n      <th>0</th>\n      <td>id3004672</td>\n      <td>1</td>\n      <td>2016-06-30 23:59:58</td>\n      <td>1</td>\n      <td>-73.988129</td>\n      <td>40.732029</td>\n      <td>-73.990173</td>\n      <td>40.756680</td>\n      <td>N</td>\n      <td>Thursday</td>\n      <td>6</td>\n      <td>3</td>\n      <td>23</td>\n      <td>2.746430</td>\n    </tr>\n    <tr>\n      <th>1</th>\n      <td>id3505355</td>\n      <td>1</td>\n      <td>2016-06-30 23:59:53</td>\n      <td>1</td>\n      <td>-73.964203</td>\n      <td>40.679993</td>\n      <td>-73.959808</td>\n      <td>40.655403</td>\n      <td>N</td>\n      <td>Thursday</td>\n      <td>6</td>\n      <td>3</td>\n      <td>23</td>\n      <td>2.759243</td>\n    </tr>\n    <tr>\n      <th>2</th>\n      <td>id1217141</td>\n      <td>1</td>\n      <td>2016-06-30 23:59:47</td>\n      <td>1</td>\n      <td>-73.997437</td>\n      <td>40.737583</td>\n      <td>-73.986160</td>\n      <td>40.729523</td>\n      <td>N</td>\n      <td>Thursday</td>\n      <td>6</td>\n      <td>3</td>\n      <td>23</td>\n      <td>1.306157</td>\n    </tr>\n    <tr>\n      <th>3</th>\n      <td>id2150126</td>\n      <td>2</td>\n      <td>2016-06-30 23:59:41</td>\n      <td>1</td>\n      <td>-73.956070</td>\n      <td>40.771900</td>\n      <td>-73.986427</td>\n      <td>40.730469</td>\n      <td>N</td>\n      <td>Thursday</td>\n      <td>6</td>\n      <td>3</td>\n      <td>23</td>\n      <td>5.269095</td>\n    </tr>\n    <tr>\n      <th>4</th>\n      <td>id1598245</td>\n      <td>1</td>\n      <td>2016-06-30 23:59:33</td>\n      <td>1</td>\n      <td>-73.970215</td>\n      <td>40.761475</td>\n      <td>-73.961510</td>\n      <td>40.755890</td>\n      <td>N</td>\n      <td>Thursday</td>\n      <td>6</td>\n      <td>3</td>\n      <td>23</td>\n      <td>0.960843</td>\n    </tr>\n  </tbody>\n</table>\n</div>"
          },
          "metadata": {}
        }
      ]
    },
    {
      "metadata": {
        "trusted": true,
        "_uuid": "fb39e616c7b8b9065075b08e90362ab2e962780c"
      },
      "cell_type": "code",
      "source": "# Découper les features catégoriques en plusieurs variables numériques / indicatrices\n\ndummy = pd.get_dummies(test.store_and_fwd_flag, prefix='flag')\ndummy.drop(dummy.columns[0], axis=1, inplace=True) #enlever la première colonne qui est l'index\ntest = pd.concat([test,dummy], axis = 1)\n\ndummy = pd.get_dummies(test.vendor_id, prefix='vendor_id')\ndummy.drop(dummy.columns[0], axis=1, inplace=True) #enlever la première colonne qui est l'index\ntest = pd.concat([test,dummy], axis = 1)\n\ndummy = pd.get_dummies(test.month, prefix='month')\ndummy.drop(dummy.columns[0], axis=1, inplace=True) #enlever la première colonne qui est l'index\ntest = pd.concat([test,dummy], axis = 1)\n\ndummy = pd.get_dummies(test.weekday_num, prefix='weekday_num')\ndummy.drop(dummy.columns[0], axis=1, inplace=True) #enlever la première colonne qui est l'index\ntest = pd.concat([test,dummy], axis = 1)\n\ndummy = pd.get_dummies(test.pickup_hour, prefix='pickup_hour')\ndummy.drop(dummy.columns[0], axis=1, inplace=True) #enlever la première colonne qui est l'index\ntest = pd.concat([test,dummy], axis = 1)\n\ndummy = pd.get_dummies(test.passenger_count, prefix='passenger_count')\ndummy.drop(dummy.columns[0], axis=1, inplace=True) #enlever la première colonne qui est l'index\ntest = pd.concat([test,dummy], axis = 1)",
      "execution_count": 18,
      "outputs": []
    },
    {
      "metadata": {
        "trusted": true,
        "_uuid": "8f2c1627a0b0f1bd04a1a54682f8f26525a4cb6d"
      },
      "cell_type": "code",
      "source": "test.shape",
      "execution_count": 19,
      "outputs": [
        {
          "output_type": "execute_result",
          "execution_count": 19,
          "data": {
            "text/plain": "(625134, 57)"
          },
          "metadata": {}
        }
      ]
    },
    {
      "metadata": {
        "trusted": true,
        "_uuid": "8f7761502bb60c81efe8af26e63e76801805cbf4"
      },
      "cell_type": "code",
      "source": "data.head()",
      "execution_count": 20,
      "outputs": [
        {
          "output_type": "execute_result",
          "execution_count": 20,
          "data": {
            "text/plain": "          id  vendor_id        ...        passenger_count_8 passenger_count_9\n0  id2875421          2        ...                        0                 0\n1  id2377394          1        ...                        0                 0\n2  id3858529          2        ...                        0                 0\n3  id3504673          2        ...                        0                 0\n4  id2181028          2        ...                        0                 0\n\n[5 rows x 61 columns]",
            "text/html": "<div>\n<style scoped>\n    .dataframe tbody tr th:only-of-type {\n        vertical-align: middle;\n    }\n\n    .dataframe tbody tr th {\n        vertical-align: top;\n    }\n\n    .dataframe thead th {\n        text-align: right;\n    }\n</style>\n<table border=\"1\" class=\"dataframe\">\n  <thead>\n    <tr style=\"text-align: right;\">\n      <th></th>\n      <th>id</th>\n      <th>vendor_id</th>\n      <th>pickup_datetime</th>\n      <th>dropoff_datetime</th>\n      <th>passenger_count</th>\n      <th>pickup_longitude</th>\n      <th>pickup_latitude</th>\n      <th>dropoff_longitude</th>\n      <th>dropoff_latitude</th>\n      <th>store_and_fwd_flag</th>\n      <th>trip_duration</th>\n      <th>weekday</th>\n      <th>month</th>\n      <th>weekday_num</th>\n      <th>pickup_hour</th>\n      <th>distance</th>\n      <th>flag_Y</th>\n      <th>vendor_id_2</th>\n      <th>month_2</th>\n      <th>month_3</th>\n      <th>month_4</th>\n      <th>month_5</th>\n      <th>month_6</th>\n      <th>weekday_num_1</th>\n      <th>weekday_num_2</th>\n      <th>weekday_num_3</th>\n      <th>weekday_num_4</th>\n      <th>weekday_num_5</th>\n      <th>weekday_num_6</th>\n      <th>pickup_hour_1</th>\n      <th>pickup_hour_2</th>\n      <th>pickup_hour_3</th>\n      <th>pickup_hour_4</th>\n      <th>pickup_hour_5</th>\n      <th>pickup_hour_6</th>\n      <th>pickup_hour_7</th>\n      <th>pickup_hour_8</th>\n      <th>pickup_hour_9</th>\n      <th>pickup_hour_10</th>\n      <th>pickup_hour_11</th>\n      <th>pickup_hour_12</th>\n      <th>pickup_hour_13</th>\n      <th>pickup_hour_14</th>\n      <th>pickup_hour_15</th>\n      <th>pickup_hour_16</th>\n      <th>pickup_hour_17</th>\n      <th>pickup_hour_18</th>\n      <th>pickup_hour_19</th>\n      <th>pickup_hour_20</th>\n      <th>pickup_hour_21</th>\n      <th>pickup_hour_22</th>\n      <th>pickup_hour_23</th>\n      <th>passenger_count_1</th>\n      <th>passenger_count_2</th>\n      <th>passenger_count_3</th>\n      <th>passenger_count_4</th>\n      <th>passenger_count_5</th>\n      <th>passenger_count_6</th>\n      <th>passenger_count_7</th>\n      <th>passenger_count_8</th>\n      <th>passenger_count_9</th>\n    </tr>\n  </thead>\n  <tbody>\n    <tr>\n      <th>0</th>\n      <td>id2875421</td>\n      <td>2</td>\n      <td>2016-03-14 17:24:55</td>\n      <td>2016-03-14 17:32:30</td>\n      <td>1</td>\n      <td>-73.982155</td>\n      <td>40.767937</td>\n      <td>-73.964630</td>\n      <td>40.765602</td>\n      <td>N</td>\n      <td>455</td>\n      <td>Monday</td>\n      <td>3</td>\n      <td>0</td>\n      <td>17</td>\n      <td>1.498523</td>\n      <td>0</td>\n      <td>1</td>\n      <td>0</td>\n      <td>1</td>\n      <td>0</td>\n      <td>0</td>\n      <td>0</td>\n      <td>0</td>\n      <td>0</td>\n      <td>0</td>\n      <td>0</td>\n      <td>0</td>\n      <td>0</td>\n      <td>0</td>\n      <td>0</td>\n      <td>0</td>\n      <td>0</td>\n      <td>0</td>\n      <td>0</td>\n      <td>0</td>\n      <td>0</td>\n      <td>0</td>\n      <td>0</td>\n      <td>0</td>\n      <td>0</td>\n      <td>0</td>\n      <td>0</td>\n      <td>0</td>\n      <td>0</td>\n      <td>1</td>\n      <td>0</td>\n      <td>0</td>\n      <td>0</td>\n      <td>0</td>\n      <td>0</td>\n      <td>0</td>\n      <td>1</td>\n      <td>0</td>\n      <td>0</td>\n      <td>0</td>\n      <td>0</td>\n      <td>0</td>\n      <td>0</td>\n      <td>0</td>\n      <td>0</td>\n    </tr>\n    <tr>\n      <th>1</th>\n      <td>id2377394</td>\n      <td>1</td>\n      <td>2016-06-12 00:43:35</td>\n      <td>2016-06-12 00:54:38</td>\n      <td>1</td>\n      <td>-73.980415</td>\n      <td>40.738564</td>\n      <td>-73.999481</td>\n      <td>40.731152</td>\n      <td>N</td>\n      <td>663</td>\n      <td>Sunday</td>\n      <td>6</td>\n      <td>6</td>\n      <td>0</td>\n      <td>1.805510</td>\n      <td>0</td>\n      <td>0</td>\n      <td>0</td>\n      <td>0</td>\n      <td>0</td>\n      <td>0</td>\n      <td>1</td>\n      <td>0</td>\n      <td>0</td>\n      <td>0</td>\n      <td>0</td>\n      <td>0</td>\n      <td>1</td>\n      <td>0</td>\n      <td>0</td>\n      <td>0</td>\n      <td>0</td>\n      <td>0</td>\n      <td>0</td>\n      <td>0</td>\n      <td>0</td>\n      <td>0</td>\n      <td>0</td>\n      <td>0</td>\n      <td>0</td>\n      <td>0</td>\n      <td>0</td>\n      <td>0</td>\n      <td>0</td>\n      <td>0</td>\n      <td>0</td>\n      <td>0</td>\n      <td>0</td>\n      <td>0</td>\n      <td>0</td>\n      <td>0</td>\n      <td>1</td>\n      <td>0</td>\n      <td>0</td>\n      <td>0</td>\n      <td>0</td>\n      <td>0</td>\n      <td>0</td>\n      <td>0</td>\n      <td>0</td>\n    </tr>\n    <tr>\n      <th>2</th>\n      <td>id3858529</td>\n      <td>2</td>\n      <td>2016-01-19 11:35:24</td>\n      <td>2016-01-19 12:10:48</td>\n      <td>1</td>\n      <td>-73.979027</td>\n      <td>40.763939</td>\n      <td>-74.005333</td>\n      <td>40.710087</td>\n      <td>N</td>\n      <td>2124</td>\n      <td>Tuesday</td>\n      <td>1</td>\n      <td>1</td>\n      <td>11</td>\n      <td>6.385107</td>\n      <td>0</td>\n      <td>1</td>\n      <td>0</td>\n      <td>0</td>\n      <td>0</td>\n      <td>0</td>\n      <td>0</td>\n      <td>1</td>\n      <td>0</td>\n      <td>0</td>\n      <td>0</td>\n      <td>0</td>\n      <td>0</td>\n      <td>0</td>\n      <td>0</td>\n      <td>0</td>\n      <td>0</td>\n      <td>0</td>\n      <td>0</td>\n      <td>0</td>\n      <td>0</td>\n      <td>0</td>\n      <td>0</td>\n      <td>1</td>\n      <td>0</td>\n      <td>0</td>\n      <td>0</td>\n      <td>0</td>\n      <td>0</td>\n      <td>0</td>\n      <td>0</td>\n      <td>0</td>\n      <td>0</td>\n      <td>0</td>\n      <td>0</td>\n      <td>0</td>\n      <td>1</td>\n      <td>0</td>\n      <td>0</td>\n      <td>0</td>\n      <td>0</td>\n      <td>0</td>\n      <td>0</td>\n      <td>0</td>\n      <td>0</td>\n    </tr>\n    <tr>\n      <th>3</th>\n      <td>id3504673</td>\n      <td>2</td>\n      <td>2016-04-06 19:32:31</td>\n      <td>2016-04-06 19:39:40</td>\n      <td>1</td>\n      <td>-74.010040</td>\n      <td>40.719971</td>\n      <td>-74.012268</td>\n      <td>40.706718</td>\n      <td>N</td>\n      <td>429</td>\n      <td>Wednesday</td>\n      <td>4</td>\n      <td>2</td>\n      <td>19</td>\n      <td>1.485500</td>\n      <td>0</td>\n      <td>1</td>\n      <td>0</td>\n      <td>0</td>\n      <td>1</td>\n      <td>0</td>\n      <td>0</td>\n      <td>0</td>\n      <td>1</td>\n      <td>0</td>\n      <td>0</td>\n      <td>0</td>\n      <td>0</td>\n      <td>0</td>\n      <td>0</td>\n      <td>0</td>\n      <td>0</td>\n      <td>0</td>\n      <td>0</td>\n      <td>0</td>\n      <td>0</td>\n      <td>0</td>\n      <td>0</td>\n      <td>0</td>\n      <td>0</td>\n      <td>0</td>\n      <td>0</td>\n      <td>0</td>\n      <td>0</td>\n      <td>0</td>\n      <td>0</td>\n      <td>1</td>\n      <td>0</td>\n      <td>0</td>\n      <td>0</td>\n      <td>0</td>\n      <td>1</td>\n      <td>0</td>\n      <td>0</td>\n      <td>0</td>\n      <td>0</td>\n      <td>0</td>\n      <td>0</td>\n      <td>0</td>\n      <td>0</td>\n    </tr>\n    <tr>\n      <th>4</th>\n      <td>id2181028</td>\n      <td>2</td>\n      <td>2016-03-26 13:30:55</td>\n      <td>2016-03-26 13:38:10</td>\n      <td>1</td>\n      <td>-73.973053</td>\n      <td>40.793209</td>\n      <td>-73.972923</td>\n      <td>40.782520</td>\n      <td>N</td>\n      <td>435</td>\n      <td>Saturday</td>\n      <td>3</td>\n      <td>5</td>\n      <td>13</td>\n      <td>1.188590</td>\n      <td>0</td>\n      <td>1</td>\n      <td>0</td>\n      <td>1</td>\n      <td>0</td>\n      <td>0</td>\n      <td>0</td>\n      <td>0</td>\n      <td>0</td>\n      <td>0</td>\n      <td>0</td>\n      <td>1</td>\n      <td>0</td>\n      <td>0</td>\n      <td>0</td>\n      <td>0</td>\n      <td>0</td>\n      <td>0</td>\n      <td>0</td>\n      <td>0</td>\n      <td>0</td>\n      <td>0</td>\n      <td>0</td>\n      <td>0</td>\n      <td>0</td>\n      <td>1</td>\n      <td>0</td>\n      <td>0</td>\n      <td>0</td>\n      <td>0</td>\n      <td>0</td>\n      <td>0</td>\n      <td>0</td>\n      <td>0</td>\n      <td>0</td>\n      <td>0</td>\n      <td>1</td>\n      <td>0</td>\n      <td>0</td>\n      <td>0</td>\n      <td>0</td>\n      <td>0</td>\n      <td>0</td>\n      <td>0</td>\n      <td>0</td>\n    </tr>\n  </tbody>\n</table>\n</div>"
          },
          "metadata": {}
        }
      ]
    },
    {
      "metadata": {
        "trusted": true,
        "_uuid": "7378d90ee9782ebc19a7d844623660a5821d9585"
      },
      "cell_type": "code",
      "source": "data.shape",
      "execution_count": 21,
      "outputs": [
        {
          "output_type": "execute_result",
          "execution_count": 21,
          "data": {
            "text/plain": "(1458644, 61)"
          },
          "metadata": {}
        }
      ]
    },
    {
      "metadata": {
        "trusted": true,
        "_uuid": "4a5112e1ae3d6e1add6df3d06f2ae09f1d4591b0"
      },
      "cell_type": "code",
      "source": "test.head()",
      "execution_count": 22,
      "outputs": [
        {
          "output_type": "execute_result",
          "execution_count": 22,
          "data": {
            "text/plain": "          id  vendor_id        ...         passenger_count_6  passenger_count_9\n0  id3004672          1        ...                         0                  0\n1  id3505355          1        ...                         0                  0\n2  id1217141          1        ...                         0                  0\n3  id2150126          2        ...                         0                  0\n4  id1598245          1        ...                         0                  0\n\n[5 rows x 57 columns]",
            "text/html": "<div>\n<style scoped>\n    .dataframe tbody tr th:only-of-type {\n        vertical-align: middle;\n    }\n\n    .dataframe tbody tr th {\n        vertical-align: top;\n    }\n\n    .dataframe thead th {\n        text-align: right;\n    }\n</style>\n<table border=\"1\" class=\"dataframe\">\n  <thead>\n    <tr style=\"text-align: right;\">\n      <th></th>\n      <th>id</th>\n      <th>vendor_id</th>\n      <th>pickup_datetime</th>\n      <th>passenger_count</th>\n      <th>pickup_longitude</th>\n      <th>pickup_latitude</th>\n      <th>dropoff_longitude</th>\n      <th>dropoff_latitude</th>\n      <th>store_and_fwd_flag</th>\n      <th>weekday</th>\n      <th>month</th>\n      <th>weekday_num</th>\n      <th>pickup_hour</th>\n      <th>distance</th>\n      <th>flag_Y</th>\n      <th>vendor_id_2</th>\n      <th>month_2</th>\n      <th>month_3</th>\n      <th>month_4</th>\n      <th>month_5</th>\n      <th>month_6</th>\n      <th>weekday_num_1</th>\n      <th>weekday_num_2</th>\n      <th>weekday_num_3</th>\n      <th>weekday_num_4</th>\n      <th>weekday_num_5</th>\n      <th>weekday_num_6</th>\n      <th>pickup_hour_1</th>\n      <th>pickup_hour_2</th>\n      <th>pickup_hour_3</th>\n      <th>pickup_hour_4</th>\n      <th>pickup_hour_5</th>\n      <th>pickup_hour_6</th>\n      <th>pickup_hour_7</th>\n      <th>pickup_hour_8</th>\n      <th>pickup_hour_9</th>\n      <th>pickup_hour_10</th>\n      <th>pickup_hour_11</th>\n      <th>pickup_hour_12</th>\n      <th>pickup_hour_13</th>\n      <th>pickup_hour_14</th>\n      <th>pickup_hour_15</th>\n      <th>pickup_hour_16</th>\n      <th>pickup_hour_17</th>\n      <th>pickup_hour_18</th>\n      <th>pickup_hour_19</th>\n      <th>pickup_hour_20</th>\n      <th>pickup_hour_21</th>\n      <th>pickup_hour_22</th>\n      <th>pickup_hour_23</th>\n      <th>passenger_count_1</th>\n      <th>passenger_count_2</th>\n      <th>passenger_count_3</th>\n      <th>passenger_count_4</th>\n      <th>passenger_count_5</th>\n      <th>passenger_count_6</th>\n      <th>passenger_count_9</th>\n    </tr>\n  </thead>\n  <tbody>\n    <tr>\n      <th>0</th>\n      <td>id3004672</td>\n      <td>1</td>\n      <td>2016-06-30 23:59:58</td>\n      <td>1</td>\n      <td>-73.988129</td>\n      <td>40.732029</td>\n      <td>-73.990173</td>\n      <td>40.756680</td>\n      <td>N</td>\n      <td>Thursday</td>\n      <td>6</td>\n      <td>3</td>\n      <td>23</td>\n      <td>2.746430</td>\n      <td>0</td>\n      <td>0</td>\n      <td>0</td>\n      <td>0</td>\n      <td>0</td>\n      <td>0</td>\n      <td>1</td>\n      <td>0</td>\n      <td>0</td>\n      <td>1</td>\n      <td>0</td>\n      <td>0</td>\n      <td>0</td>\n      <td>0</td>\n      <td>0</td>\n      <td>0</td>\n      <td>0</td>\n      <td>0</td>\n      <td>0</td>\n      <td>0</td>\n      <td>0</td>\n      <td>0</td>\n      <td>0</td>\n      <td>0</td>\n      <td>0</td>\n      <td>0</td>\n      <td>0</td>\n      <td>0</td>\n      <td>0</td>\n      <td>0</td>\n      <td>0</td>\n      <td>0</td>\n      <td>0</td>\n      <td>0</td>\n      <td>0</td>\n      <td>1</td>\n      <td>1</td>\n      <td>0</td>\n      <td>0</td>\n      <td>0</td>\n      <td>0</td>\n      <td>0</td>\n      <td>0</td>\n    </tr>\n    <tr>\n      <th>1</th>\n      <td>id3505355</td>\n      <td>1</td>\n      <td>2016-06-30 23:59:53</td>\n      <td>1</td>\n      <td>-73.964203</td>\n      <td>40.679993</td>\n      <td>-73.959808</td>\n      <td>40.655403</td>\n      <td>N</td>\n      <td>Thursday</td>\n      <td>6</td>\n      <td>3</td>\n      <td>23</td>\n      <td>2.759243</td>\n      <td>0</td>\n      <td>0</td>\n      <td>0</td>\n      <td>0</td>\n      <td>0</td>\n      <td>0</td>\n      <td>1</td>\n      <td>0</td>\n      <td>0</td>\n      <td>1</td>\n      <td>0</td>\n      <td>0</td>\n      <td>0</td>\n      <td>0</td>\n      <td>0</td>\n      <td>0</td>\n      <td>0</td>\n      <td>0</td>\n      <td>0</td>\n      <td>0</td>\n      <td>0</td>\n      <td>0</td>\n      <td>0</td>\n      <td>0</td>\n      <td>0</td>\n      <td>0</td>\n      <td>0</td>\n      <td>0</td>\n      <td>0</td>\n      <td>0</td>\n      <td>0</td>\n      <td>0</td>\n      <td>0</td>\n      <td>0</td>\n      <td>0</td>\n      <td>1</td>\n      <td>1</td>\n      <td>0</td>\n      <td>0</td>\n      <td>0</td>\n      <td>0</td>\n      <td>0</td>\n      <td>0</td>\n    </tr>\n    <tr>\n      <th>2</th>\n      <td>id1217141</td>\n      <td>1</td>\n      <td>2016-06-30 23:59:47</td>\n      <td>1</td>\n      <td>-73.997437</td>\n      <td>40.737583</td>\n      <td>-73.986160</td>\n      <td>40.729523</td>\n      <td>N</td>\n      <td>Thursday</td>\n      <td>6</td>\n      <td>3</td>\n      <td>23</td>\n      <td>1.306157</td>\n      <td>0</td>\n      <td>0</td>\n      <td>0</td>\n      <td>0</td>\n      <td>0</td>\n      <td>0</td>\n      <td>1</td>\n      <td>0</td>\n      <td>0</td>\n      <td>1</td>\n      <td>0</td>\n      <td>0</td>\n      <td>0</td>\n      <td>0</td>\n      <td>0</td>\n      <td>0</td>\n      <td>0</td>\n      <td>0</td>\n      <td>0</td>\n      <td>0</td>\n      <td>0</td>\n      <td>0</td>\n      <td>0</td>\n      <td>0</td>\n      <td>0</td>\n      <td>0</td>\n      <td>0</td>\n      <td>0</td>\n      <td>0</td>\n      <td>0</td>\n      <td>0</td>\n      <td>0</td>\n      <td>0</td>\n      <td>0</td>\n      <td>0</td>\n      <td>1</td>\n      <td>1</td>\n      <td>0</td>\n      <td>0</td>\n      <td>0</td>\n      <td>0</td>\n      <td>0</td>\n      <td>0</td>\n    </tr>\n    <tr>\n      <th>3</th>\n      <td>id2150126</td>\n      <td>2</td>\n      <td>2016-06-30 23:59:41</td>\n      <td>1</td>\n      <td>-73.956070</td>\n      <td>40.771900</td>\n      <td>-73.986427</td>\n      <td>40.730469</td>\n      <td>N</td>\n      <td>Thursday</td>\n      <td>6</td>\n      <td>3</td>\n      <td>23</td>\n      <td>5.269095</td>\n      <td>0</td>\n      <td>1</td>\n      <td>0</td>\n      <td>0</td>\n      <td>0</td>\n      <td>0</td>\n      <td>1</td>\n      <td>0</td>\n      <td>0</td>\n      <td>1</td>\n      <td>0</td>\n      <td>0</td>\n      <td>0</td>\n      <td>0</td>\n      <td>0</td>\n      <td>0</td>\n      <td>0</td>\n      <td>0</td>\n      <td>0</td>\n      <td>0</td>\n      <td>0</td>\n      <td>0</td>\n      <td>0</td>\n      <td>0</td>\n      <td>0</td>\n      <td>0</td>\n      <td>0</td>\n      <td>0</td>\n      <td>0</td>\n      <td>0</td>\n      <td>0</td>\n      <td>0</td>\n      <td>0</td>\n      <td>0</td>\n      <td>0</td>\n      <td>1</td>\n      <td>1</td>\n      <td>0</td>\n      <td>0</td>\n      <td>0</td>\n      <td>0</td>\n      <td>0</td>\n      <td>0</td>\n    </tr>\n    <tr>\n      <th>4</th>\n      <td>id1598245</td>\n      <td>1</td>\n      <td>2016-06-30 23:59:33</td>\n      <td>1</td>\n      <td>-73.970215</td>\n      <td>40.761475</td>\n      <td>-73.961510</td>\n      <td>40.755890</td>\n      <td>N</td>\n      <td>Thursday</td>\n      <td>6</td>\n      <td>3</td>\n      <td>23</td>\n      <td>0.960843</td>\n      <td>0</td>\n      <td>0</td>\n      <td>0</td>\n      <td>0</td>\n      <td>0</td>\n      <td>0</td>\n      <td>1</td>\n      <td>0</td>\n      <td>0</td>\n      <td>1</td>\n      <td>0</td>\n      <td>0</td>\n      <td>0</td>\n      <td>0</td>\n      <td>0</td>\n      <td>0</td>\n      <td>0</td>\n      <td>0</td>\n      <td>0</td>\n      <td>0</td>\n      <td>0</td>\n      <td>0</td>\n      <td>0</td>\n      <td>0</td>\n      <td>0</td>\n      <td>0</td>\n      <td>0</td>\n      <td>0</td>\n      <td>0</td>\n      <td>0</td>\n      <td>0</td>\n      <td>0</td>\n      <td>0</td>\n      <td>0</td>\n      <td>0</td>\n      <td>1</td>\n      <td>1</td>\n      <td>0</td>\n      <td>0</td>\n      <td>0</td>\n      <td>0</td>\n      <td>0</td>\n      <td>0</td>\n    </tr>\n  </tbody>\n</table>\n</div>"
          },
          "metadata": {}
        }
      ]
    },
    {
      "metadata": {
        "_uuid": "4779638d5fc6fc2d9a140f595a43b6095dbd118e"
      },
      "cell_type": "markdown",
      "source": "# 4 Analyse univariée\n#### On va analyser et étudier les variables une par une"
    },
    {
      "metadata": {
        "trusted": true,
        "_uuid": "4a697642de2314e0a37544522282c20fe1a07588"
      },
      "cell_type": "code",
      "source": "pd.options.display.float_format = '{:.2f}'.format #Basculer l'affichage des floats en format scientifique",
      "execution_count": 23,
      "outputs": []
    },
    {
      "metadata": {
        "trusted": true,
        "_uuid": "708e8114f6680e5da8aa3f71b2b66da82fad9758"
      },
      "cell_type": "code",
      "source": "data.passenger_count.value_counts()",
      "execution_count": 24,
      "outputs": [
        {
          "output_type": "execute_result",
          "execution_count": 24,
          "data": {
            "text/plain": "1    1033540\n2     210318\n5      78088\n3      59896\n6      48333\n4      28404\n0         60\n7          3\n9          1\n8          1\nName: passenger_count, dtype: int64"
          },
          "metadata": {}
        }
      ]
    },
    {
      "metadata": {
        "trusted": true,
        "_uuid": "9c9f5e6015501ba360225ec248cd83911dac0dcd"
      },
      "cell_type": "code",
      "source": "test.passenger_count.value_counts()",
      "execution_count": 25,
      "outputs": [
        {
          "output_type": "execute_result",
          "execution_count": 25,
          "data": {
            "text/plain": "1    443447\n2     90027\n5     33411\n3     25686\n6     20521\n4     12017\n0        23\n9         2\nName: passenger_count, dtype: int64"
          },
          "metadata": {}
        }
      ]
    },
    {
      "metadata": {
        "trusted": true,
        "_uuid": "a89a97d1f554c4456d1e7b88f3a804be14657ecb"
      },
      "cell_type": "code",
      "source": "print(data.passenger_count.describe())\nprint(f'median = {data.passenger_count.median()}')\n# On remarque que la moyenne, la médiane et les modes sont presque égaux à 1",
      "execution_count": 26,
      "outputs": [
        {
          "output_type": "stream",
          "text": "count   1458644.00\nmean          1.66\nstd           1.31\nmin           0.00\n25%           1.00\n50%           1.00\n75%           2.00\nmax           9.00\nName: passenger_count, dtype: float64\nmedian = 1.0\n",
          "name": "stdout"
        }
      ]
    },
    {
      "metadata": {
        "trusted": true,
        "_uuid": "0f6aecdff6cc00c0b1138fa28608d5e564414049"
      },
      "cell_type": "code",
      "source": "# Alors on remplace le passenger_count 0 par 1\ndata['passenger_count'] = data.passenger_count.map(lambda x: 1 if x == 0 else x)",
      "execution_count": 27,
      "outputs": []
    },
    {
      "metadata": {
        "trusted": true,
        "_uuid": "a65803c6e757f473794d40dec6896a1cab9ec742"
      },
      "cell_type": "code",
      "source": "test['passenger_count'] = test.passenger_count.map(lambda x: 1 if x == 0 else x)",
      "execution_count": 28,
      "outputs": []
    },
    {
      "metadata": {
        "trusted": true,
        "_uuid": "01c1a03cad9ccf52cb71f414bc17e422a7b64df1"
      },
      "cell_type": "code",
      "source": "test.shape",
      "execution_count": 29,
      "outputs": [
        {
          "output_type": "execute_result",
          "execution_count": 29,
          "data": {
            "text/plain": "(625134, 57)"
          },
          "metadata": {}
        }
      ]
    },
    {
      "metadata": {
        "trusted": true,
        "_uuid": "df0177dfb616bc66386914fe3d7a31e5a77bb13a"
      },
      "cell_type": "code",
      "source": "data.passenger_count.value_counts()",
      "execution_count": 30,
      "outputs": [
        {
          "output_type": "execute_result",
          "execution_count": 30,
          "data": {
            "text/plain": "1    1033600\n2     210318\n5      78088\n3      59896\n6      48333\n4      28404\n7          3\n9          1\n8          1\nName: passenger_count, dtype: int64"
          },
          "metadata": {}
        }
      ]
    },
    {
      "metadata": {
        "trusted": true,
        "_uuid": "3a49b15d47b6cb70c00420e21996a88600aa4811"
      },
      "cell_type": "code",
      "source": "test.passenger_count.value_counts()",
      "execution_count": 31,
      "outputs": [
        {
          "output_type": "execute_result",
          "execution_count": 31,
          "data": {
            "text/plain": "1    443470\n2     90027\n5     33411\n3     25686\n6     20521\n4     12017\n9         2\nName: passenger_count, dtype: int64"
          },
          "metadata": {}
        }
      ]
    },
    {
      "metadata": {
        "trusted": true,
        "_uuid": "1f6df196ad1628b1a028c7bb1f40a2c3ae79ffba"
      },
      "cell_type": "code",
      "source": "#Nombre de courses par nombre de passagers\nsns.countplot(data.passenger_count)\nplt.show()",
      "execution_count": 32,
      "outputs": [
        {
          "output_type": "display_data",
          "data": {
            "text/plain": "<Figure size 432x288 with 1 Axes>",
            "image/png": "[encoded data removed]"
          },
          "metadata": {}
        }
      ]
    },
    {
      "metadata": {
        "trusted": true,
        "_uuid": "ebba8d0c5c62d8cacc5cac245977220833dac468"
      },
      "cell_type": "code",
      "source": "data.dtypes.reset_index()",
      "execution_count": 33,
      "outputs": [
        {
          "output_type": "execute_result",
          "execution_count": 33,
          "data": {
            "text/plain": "                 index               0\n0                   id          object\n1            vendor_id           int64\n2      pickup_datetime  datetime64[ns]\n3     dropoff_datetime  datetime64[ns]\n4      passenger_count           int64\n5     pickup_longitude         float64\n6      pickup_latitude         float64\n7    dropoff_longitude         float64\n8     dropoff_latitude         float64\n9   store_and_fwd_flag          object\n10       trip_duration           int64\n11             weekday          object\n12               month           int64\n13         weekday_num           int64\n14         pickup_hour           int64\n15            distance         float64\n16              flag_Y           uint8\n17         vendor_id_2           uint8\n18             month_2           uint8\n19             month_3           uint8\n20             month_4           uint8\n21             month_5           uint8\n22             month_6           uint8\n23       weekday_num_1           uint8\n24       weekday_num_2           uint8\n25       weekday_num_3           uint8\n26       weekday_num_4           uint8\n27       weekday_num_5           uint8\n28       weekday_num_6           uint8\n29       pickup_hour_1           uint8\n..                 ...             ...\n31       pickup_hour_3           uint8\n32       pickup_hour_4           uint8\n33       pickup_hour_5           uint8\n34       pickup_hour_6           uint8\n35       pickup_hour_7           uint8\n36       pickup_hour_8           uint8\n37       pickup_hour_9           uint8\n38      pickup_hour_10           uint8\n39      pickup_hour_11           uint8\n40      pickup_hour_12           uint8\n41      pickup_hour_13           uint8\n42      pickup_hour_14           uint8\n43      pickup_hour_15           uint8\n44      pickup_hour_16           uint8\n45      pickup_hour_17           uint8\n46      pickup_hour_18           uint8\n47      pickup_hour_19           uint8\n48      pickup_hour_20           uint8\n49      pickup_hour_21           uint8\n50      pickup_hour_22           uint8\n51      pickup_hour_23           uint8\n52   passenger_count_1           uint8\n53   passenger_count_2           uint8\n54   passenger_count_3           uint8\n55   passenger_count_4           uint8\n56   passenger_count_5           uint8\n57   passenger_count_6           uint8\n58   passenger_count_7           uint8\n59   passenger_count_8           uint8\n60   passenger_count_9           uint8\n\n[61 rows x 2 columns]",
            "text/html": "<div>\n<style scoped>\n    .dataframe tbody tr th:only-of-type {\n        vertical-align: middle;\n    }\n\n    .dataframe tbody tr th {\n        vertical-align: top;\n    }\n\n    .dataframe thead th {\n        text-align: right;\n    }\n</style>\n<table border=\"1\" class=\"dataframe\">\n  <thead>\n    <tr style=\"text-align: right;\">\n      <th></th>\n      <th>index</th>\n      <th>0</th>\n    </tr>\n  </thead>\n  <tbody>\n    <tr>\n      <th>0</th>\n      <td>id</td>\n      <td>object</td>\n    </tr>\n    <tr>\n      <th>1</th>\n      <td>vendor_id</td>\n      <td>int64</td>\n    </tr>\n    <tr>\n      <th>2</th>\n      <td>pickup_datetime</td>\n      <td>datetime64[ns]</td>\n    </tr>\n    <tr>\n      <th>3</th>\n      <td>dropoff_datetime</td>\n      <td>datetime64[ns]</td>\n    </tr>\n    <tr>\n      <th>4</th>\n      <td>passenger_count</td>\n      <td>int64</td>\n    </tr>\n    <tr>\n      <th>5</th>\n      <td>pickup_longitude</td>\n      <td>float64</td>\n    </tr>\n    <tr>\n      <th>6</th>\n      <td>pickup_latitude</td>\n      <td>float64</td>\n    </tr>\n    <tr>\n      <th>7</th>\n      <td>dropoff_longitude</td>\n      <td>float64</td>\n    </tr>\n    <tr>\n      <th>8</th>\n      <td>dropoff_latitude</td>\n      <td>float64</td>\n    </tr>\n    <tr>\n      <th>9</th>\n      <td>store_and_fwd_flag</td>\n      <td>object</td>\n    </tr>\n    <tr>\n      <th>10</th>\n      <td>trip_duration</td>\n      <td>int64</td>\n    </tr>\n    <tr>\n      <th>11</th>\n      <td>weekday</td>\n      <td>object</td>\n    </tr>\n    <tr>\n      <th>12</th>\n      <td>month</td>\n      <td>int64</td>\n    </tr>\n    <tr>\n      <th>13</th>\n      <td>weekday_num</td>\n      <td>int64</td>\n    </tr>\n    <tr>\n      <th>14</th>\n      <td>pickup_hour</td>\n      <td>int64</td>\n    </tr>\n    <tr>\n      <th>15</th>\n      <td>distance</td>\n      <td>float64</td>\n    </tr>\n    <tr>\n      <th>16</th>\n      <td>flag_Y</td>\n      <td>uint8</td>\n    </tr>\n    <tr>\n      <th>17</th>\n      <td>vendor_id_2</td>\n      <td>uint8</td>\n    </tr>\n    <tr>\n      <th>18</th>\n      <td>month_2</td>\n      <td>uint8</td>\n    </tr>\n    <tr>\n      <th>19</th>\n      <td>month_3</td>\n      <td>uint8</td>\n    </tr>\n    <tr>\n      <th>20</th>\n      <td>month_4</td>\n      <td>uint8</td>\n    </tr>\n    <tr>\n      <th>21</th>\n      <td>month_5</td>\n      <td>uint8</td>\n    </tr>\n    <tr>\n      <th>22</th>\n      <td>month_6</td>\n      <td>uint8</td>\n    </tr>\n    <tr>\n      <th>23</th>\n      <td>weekday_num_1</td>\n      <td>uint8</td>\n    </tr>\n    <tr>\n      <th>24</th>\n      <td>weekday_num_2</td>\n      <td>uint8</td>\n    </tr>\n    <tr>\n      <th>25</th>\n      <td>weekday_num_3</td>\n      <td>uint8</td>\n    </tr>\n    <tr>\n      <th>26</th>\n      <td>weekday_num_4</td>\n      <td>uint8</td>\n    </tr>\n    <tr>\n      <th>27</th>\n      <td>weekday_num_5</td>\n      <td>uint8</td>\n    </tr>\n    <tr>\n      <th>28</th>\n      <td>weekday_num_6</td>\n      <td>uint8</td>\n    </tr>\n    <tr>\n      <th>29</th>\n      <td>pickup_hour_1</td>\n      <td>uint8</td>\n    </tr>\n    <tr>\n      <th>...</th>\n      <td>...</td>\n      <td>...</td>\n    </tr>\n    <tr>\n      <th>31</th>\n      <td>pickup_hour_3</td>\n      <td>uint8</td>\n    </tr>\n    <tr>\n      <th>32</th>\n      <td>pickup_hour_4</td>\n      <td>uint8</td>\n    </tr>\n    <tr>\n      <th>33</th>\n      <td>pickup_hour_5</td>\n      <td>uint8</td>\n    </tr>\n    <tr>\n      <th>34</th>\n      <td>pickup_hour_6</td>\n      <td>uint8</td>\n    </tr>\n    <tr>\n      <th>35</th>\n      <td>pickup_hour_7</td>\n      <td>uint8</td>\n    </tr>\n    <tr>\n      <th>36</th>\n      <td>pickup_hour_8</td>\n      <td>uint8</td>\n    </tr>\n    <tr>\n      <th>37</th>\n      <td>pickup_hour_9</td>\n      <td>uint8</td>\n    </tr>\n    <tr>\n      <th>38</th>\n      <td>pickup_hour_10</td>\n      <td>uint8</td>\n    </tr>\n    <tr>\n      <th>39</th>\n      <td>pickup_hour_11</td>\n      <td>uint8</td>\n    </tr>\n    <tr>\n      <th>40</th>\n      <td>pickup_hour_12</td>\n      <td>uint8</td>\n    </tr>\n    <tr>\n      <th>41</th>\n      <td>pickup_hour_13</td>\n      <td>uint8</td>\n    </tr>\n    <tr>\n      <th>42</th>\n      <td>pickup_hour_14</td>\n      <td>uint8</td>\n    </tr>\n    <tr>\n      <th>43</th>\n      <td>pickup_hour_15</td>\n      <td>uint8</td>\n    </tr>\n    <tr>\n      <th>44</th>\n      <td>pickup_hour_16</td>\n      <td>uint8</td>\n    </tr>\n    <tr>\n      <th>45</th>\n      <td>pickup_hour_17</td>\n      <td>uint8</td>\n    </tr>\n    <tr>\n      <th>46</th>\n      <td>pickup_hour_18</td>\n      <td>uint8</td>\n    </tr>\n    <tr>\n      <th>47</th>\n      <td>pickup_hour_19</td>\n      <td>uint8</td>\n    </tr>\n    <tr>\n      <th>48</th>\n      <td>pickup_hour_20</td>\n      <td>uint8</td>\n    </tr>\n    <tr>\n      <th>49</th>\n      <td>pickup_hour_21</td>\n      <td>uint8</td>\n    </tr>\n    <tr>\n      <th>50</th>\n      <td>pickup_hour_22</td>\n      <td>uint8</td>\n    </tr>\n    <tr>\n      <th>51</th>\n      <td>pickup_hour_23</td>\n      <td>uint8</td>\n    </tr>\n    <tr>\n      <th>52</th>\n      <td>passenger_count_1</td>\n      <td>uint8</td>\n    </tr>\n    <tr>\n      <th>53</th>\n      <td>passenger_count_2</td>\n      <td>uint8</td>\n    </tr>\n    <tr>\n      <th>54</th>\n      <td>passenger_count_3</td>\n      <td>uint8</td>\n    </tr>\n    <tr>\n      <th>55</th>\n      <td>passenger_count_4</td>\n      <td>uint8</td>\n    </tr>\n    <tr>\n      <th>56</th>\n      <td>passenger_count_5</td>\n      <td>uint8</td>\n    </tr>\n    <tr>\n      <th>57</th>\n      <td>passenger_count_6</td>\n      <td>uint8</td>\n    </tr>\n    <tr>\n      <th>58</th>\n      <td>passenger_count_7</td>\n      <td>uint8</td>\n    </tr>\n    <tr>\n      <th>59</th>\n      <td>passenger_count_8</td>\n      <td>uint8</td>\n    </tr>\n    <tr>\n      <th>60</th>\n      <td>passenger_count_9</td>\n      <td>uint8</td>\n    </tr>\n  </tbody>\n</table>\n<p>61 rows × 2 columns</p>\n</div>"
          },
          "metadata": {}
        }
      ]
    },
    {
      "metadata": {
        "trusted": true,
        "_uuid": "5d4853ca041c9e13a1b8c08b8325b2374a98fd11"
      },
      "cell_type": "code",
      "source": "test.dtypes.reset_index()",
      "execution_count": 34,
      "outputs": [
        {
          "output_type": "execute_result",
          "execution_count": 34,
          "data": {
            "text/plain": "                 index               0\n0                   id          object\n1            vendor_id           int64\n2      pickup_datetime  datetime64[ns]\n3      passenger_count           int64\n4     pickup_longitude         float64\n5      pickup_latitude         float64\n6    dropoff_longitude         float64\n7     dropoff_latitude         float64\n8   store_and_fwd_flag          object\n9              weekday          object\n10               month           int64\n11         weekday_num           int64\n12         pickup_hour           int64\n13            distance         float64\n14              flag_Y           uint8\n15         vendor_id_2           uint8\n16             month_2           uint8\n17             month_3           uint8\n18             month_4           uint8\n19             month_5           uint8\n20             month_6           uint8\n21       weekday_num_1           uint8\n22       weekday_num_2           uint8\n23       weekday_num_3           uint8\n24       weekday_num_4           uint8\n25       weekday_num_5           uint8\n26       weekday_num_6           uint8\n27       pickup_hour_1           uint8\n28       pickup_hour_2           uint8\n29       pickup_hour_3           uint8\n30       pickup_hour_4           uint8\n31       pickup_hour_5           uint8\n32       pickup_hour_6           uint8\n33       pickup_hour_7           uint8\n34       pickup_hour_8           uint8\n35       pickup_hour_9           uint8\n36      pickup_hour_10           uint8\n37      pickup_hour_11           uint8\n38      pickup_hour_12           uint8\n39      pickup_hour_13           uint8\n40      pickup_hour_14           uint8\n41      pickup_hour_15           uint8\n42      pickup_hour_16           uint8\n43      pickup_hour_17           uint8\n44      pickup_hour_18           uint8\n45      pickup_hour_19           uint8\n46      pickup_hour_20           uint8\n47      pickup_hour_21           uint8\n48      pickup_hour_22           uint8\n49      pickup_hour_23           uint8\n50   passenger_count_1           uint8\n51   passenger_count_2           uint8\n52   passenger_count_3           uint8\n53   passenger_count_4           uint8\n54   passenger_count_5           uint8\n55   passenger_count_6           uint8\n56   passenger_count_9           uint8",
            "text/html": "<div>\n<style scoped>\n    .dataframe tbody tr th:only-of-type {\n        vertical-align: middle;\n    }\n\n    .dataframe tbody tr th {\n        vertical-align: top;\n    }\n\n    .dataframe thead th {\n        text-align: right;\n    }\n</style>\n<table border=\"1\" class=\"dataframe\">\n  <thead>\n    <tr style=\"text-align: right;\">\n      <th></th>\n      <th>index</th>\n      <th>0</th>\n    </tr>\n  </thead>\n  <tbody>\n    <tr>\n      <th>0</th>\n      <td>id</td>\n      <td>object</td>\n    </tr>\n    <tr>\n      <th>1</th>\n      <td>vendor_id</td>\n      <td>int64</td>\n    </tr>\n    <tr>\n      <th>2</th>\n      <td>pickup_datetime</td>\n      <td>datetime64[ns]</td>\n    </tr>\n    <tr>\n      <th>3</th>\n      <td>passenger_count</td>\n      <td>int64</td>\n    </tr>\n    <tr>\n      <th>4</th>\n      <td>pickup_longitude</td>\n      <td>float64</td>\n    </tr>\n    <tr>\n      <th>5</th>\n      <td>pickup_latitude</td>\n      <td>float64</td>\n    </tr>\n    <tr>\n      <th>6</th>\n      <td>dropoff_longitude</td>\n      <td>float64</td>\n    </tr>\n    <tr>\n      <th>7</th>\n      <td>dropoff_latitude</td>\n      <td>float64</td>\n    </tr>\n    <tr>\n      <th>8</th>\n      <td>store_and_fwd_flag</td>\n      <td>object</td>\n    </tr>\n    <tr>\n      <th>9</th>\n      <td>weekday</td>\n      <td>object</td>\n    </tr>\n    <tr>\n      <th>10</th>\n      <td>month</td>\n      <td>int64</td>\n    </tr>\n    <tr>\n      <th>11</th>\n      <td>weekday_num</td>\n      <td>int64</td>\n    </tr>\n    <tr>\n      <th>12</th>\n      <td>pickup_hour</td>\n      <td>int64</td>\n    </tr>\n    <tr>\n      <th>13</th>\n      <td>distance</td>\n      <td>float64</td>\n    </tr>\n    <tr>\n      <th>14</th>\n      <td>flag_Y</td>\n      <td>uint8</td>\n    </tr>\n    <tr>\n      <th>15</th>\n      <td>vendor_id_2</td>\n      <td>uint8</td>\n    </tr>\n    <tr>\n      <th>16</th>\n      <td>month_2</td>\n      <td>uint8</td>\n    </tr>\n    <tr>\n      <th>17</th>\n      <td>month_3</td>\n      <td>uint8</td>\n    </tr>\n    <tr>\n      <th>18</th>\n      <td>month_4</td>\n      <td>uint8</td>\n    </tr>\n    <tr>\n      <th>19</th>\n      <td>month_5</td>\n      <td>uint8</td>\n    </tr>\n    <tr>\n      <th>20</th>\n      <td>month_6</td>\n      <td>uint8</td>\n    </tr>\n    <tr>\n      <th>21</th>\n      <td>weekday_num_1</td>\n      <td>uint8</td>\n    </tr>\n    <tr>\n      <th>22</th>\n      <td>weekday_num_2</td>\n      <td>uint8</td>\n    </tr>\n    <tr>\n      <th>23</th>\n      <td>weekday_num_3</td>\n      <td>uint8</td>\n    </tr>\n    <tr>\n      <th>24</th>\n      <td>weekday_num_4</td>\n      <td>uint8</td>\n    </tr>\n    <tr>\n      <th>25</th>\n      <td>weekday_num_5</td>\n      <td>uint8</td>\n    </tr>\n    <tr>\n      <th>26</th>\n      <td>weekday_num_6</td>\n      <td>uint8</td>\n    </tr>\n    <tr>\n      <th>27</th>\n      <td>pickup_hour_1</td>\n      <td>uint8</td>\n    </tr>\n    <tr>\n      <th>28</th>\n      <td>pickup_hour_2</td>\n      <td>uint8</td>\n    </tr>\n    <tr>\n      <th>29</th>\n      <td>pickup_hour_3</td>\n      <td>uint8</td>\n    </tr>\n    <tr>\n      <th>30</th>\n      <td>pickup_hour_4</td>\n      <td>uint8</td>\n    </tr>\n    <tr>\n      <th>31</th>\n      <td>pickup_hour_5</td>\n      <td>uint8</td>\n    </tr>\n    <tr>\n      <th>32</th>\n      <td>pickup_hour_6</td>\n      <td>uint8</td>\n    </tr>\n    <tr>\n      <th>33</th>\n      <td>pickup_hour_7</td>\n      <td>uint8</td>\n    </tr>\n    <tr>\n      <th>34</th>\n      <td>pickup_hour_8</td>\n      <td>uint8</td>\n    </tr>\n    <tr>\n      <th>35</th>\n      <td>pickup_hour_9</td>\n      <td>uint8</td>\n    </tr>\n    <tr>\n      <th>36</th>\n      <td>pickup_hour_10</td>\n      <td>uint8</td>\n    </tr>\n    <tr>\n      <th>37</th>\n      <td>pickup_hour_11</td>\n      <td>uint8</td>\n    </tr>\n    <tr>\n      <th>38</th>\n      <td>pickup_hour_12</td>\n      <td>uint8</td>\n    </tr>\n    <tr>\n      <th>39</th>\n      <td>pickup_hour_13</td>\n      <td>uint8</td>\n    </tr>\n    <tr>\n      <th>40</th>\n      <td>pickup_hour_14</td>\n      <td>uint8</td>\n    </tr>\n    <tr>\n      <th>41</th>\n      <td>pickup_hour_15</td>\n      <td>uint8</td>\n    </tr>\n    <tr>\n      <th>42</th>\n      <td>pickup_hour_16</td>\n      <td>uint8</td>\n    </tr>\n    <tr>\n      <th>43</th>\n      <td>pickup_hour_17</td>\n      <td>uint8</td>\n    </tr>\n    <tr>\n      <th>44</th>\n      <td>pickup_hour_18</td>\n      <td>uint8</td>\n    </tr>\n    <tr>\n      <th>45</th>\n      <td>pickup_hour_19</td>\n      <td>uint8</td>\n    </tr>\n    <tr>\n      <th>46</th>\n      <td>pickup_hour_20</td>\n      <td>uint8</td>\n    </tr>\n    <tr>\n      <th>47</th>\n      <td>pickup_hour_21</td>\n      <td>uint8</td>\n    </tr>\n    <tr>\n      <th>48</th>\n      <td>pickup_hour_22</td>\n      <td>uint8</td>\n    </tr>\n    <tr>\n      <th>49</th>\n      <td>pickup_hour_23</td>\n      <td>uint8</td>\n    </tr>\n    <tr>\n      <th>50</th>\n      <td>passenger_count_1</td>\n      <td>uint8</td>\n    </tr>\n    <tr>\n      <th>51</th>\n      <td>passenger_count_2</td>\n      <td>uint8</td>\n    </tr>\n    <tr>\n      <th>52</th>\n      <td>passenger_count_3</td>\n      <td>uint8</td>\n    </tr>\n    <tr>\n      <th>53</th>\n      <td>passenger_count_4</td>\n      <td>uint8</td>\n    </tr>\n    <tr>\n      <th>54</th>\n      <td>passenger_count_5</td>\n      <td>uint8</td>\n    </tr>\n    <tr>\n      <th>55</th>\n      <td>passenger_count_6</td>\n      <td>uint8</td>\n    </tr>\n    <tr>\n      <th>56</th>\n      <td>passenger_count_9</td>\n      <td>uint8</td>\n    </tr>\n  </tbody>\n</table>\n</div>"
          },
          "metadata": {}
        }
      ]
    },
    {
      "metadata": {
        "trusted": true,
        "_uuid": "2ccad4bb9523883704c2d134c227f3629a578e26"
      },
      "cell_type": "code",
      "source": "# Distribution des horaires de départs des courses sur 24 heures\nsns.countplot(data.pickup_hour)\nplt.show()",
      "execution_count": 35,
      "outputs": [
        {
          "output_type": "display_data",
          "data": {
            "text/plain": "<Figure size 432x288 with 1 Axes>",
            "image/png": "[encoded data removed]"
          },
          "metadata": {}
        }
      ]
    },
    {
      "metadata": {
        "_uuid": "88e1dd6fca9c4ede8b73ef354f105e858d8d070d"
      },
      "cell_type": "markdown",
      "source": "# 5 Séléction des features"
    },
    {
      "metadata": {
        "trusted": true,
        "_uuid": "400550b3050dad655f0d091a0c0efc110d10ffd5"
      },
      "cell_type": "code",
      "source": "data.head()",
      "execution_count": 36,
      "outputs": [
        {
          "output_type": "execute_result",
          "execution_count": 36,
          "data": {
            "text/plain": "          id  vendor_id        ...        passenger_count_8 passenger_count_9\n0  id2875421          2        ...                        0                 0\n1  id2377394          1        ...                        0                 0\n2  id3858529          2        ...                        0                 0\n3  id3504673          2        ...                        0                 0\n4  id2181028          2        ...                        0                 0\n\n[5 rows x 61 columns]",
            "text/html": "<div>\n<style scoped>\n    .dataframe tbody tr th:only-of-type {\n        vertical-align: middle;\n    }\n\n    .dataframe tbody tr th {\n        vertical-align: top;\n    }\n\n    .dataframe thead th {\n        text-align: right;\n    }\n</style>\n<table border=\"1\" class=\"dataframe\">\n  <thead>\n    <tr style=\"text-align: right;\">\n      <th></th>\n      <th>id</th>\n      <th>vendor_id</th>\n      <th>pickup_datetime</th>\n      <th>dropoff_datetime</th>\n      <th>passenger_count</th>\n      <th>pickup_longitude</th>\n      <th>pickup_latitude</th>\n      <th>dropoff_longitude</th>\n      <th>dropoff_latitude</th>\n      <th>store_and_fwd_flag</th>\n      <th>trip_duration</th>\n      <th>weekday</th>\n      <th>month</th>\n      <th>weekday_num</th>\n      <th>pickup_hour</th>\n      <th>distance</th>\n      <th>flag_Y</th>\n      <th>vendor_id_2</th>\n      <th>month_2</th>\n      <th>month_3</th>\n      <th>month_4</th>\n      <th>month_5</th>\n      <th>month_6</th>\n      <th>weekday_num_1</th>\n      <th>weekday_num_2</th>\n      <th>weekday_num_3</th>\n      <th>weekday_num_4</th>\n      <th>weekday_num_5</th>\n      <th>weekday_num_6</th>\n      <th>pickup_hour_1</th>\n      <th>pickup_hour_2</th>\n      <th>pickup_hour_3</th>\n      <th>pickup_hour_4</th>\n      <th>pickup_hour_5</th>\n      <th>pickup_hour_6</th>\n      <th>pickup_hour_7</th>\n      <th>pickup_hour_8</th>\n      <th>pickup_hour_9</th>\n      <th>pickup_hour_10</th>\n      <th>pickup_hour_11</th>\n      <th>pickup_hour_12</th>\n      <th>pickup_hour_13</th>\n      <th>pickup_hour_14</th>\n      <th>pickup_hour_15</th>\n      <th>pickup_hour_16</th>\n      <th>pickup_hour_17</th>\n      <th>pickup_hour_18</th>\n      <th>pickup_hour_19</th>\n      <th>pickup_hour_20</th>\n      <th>pickup_hour_21</th>\n      <th>pickup_hour_22</th>\n      <th>pickup_hour_23</th>\n      <th>passenger_count_1</th>\n      <th>passenger_count_2</th>\n      <th>passenger_count_3</th>\n      <th>passenger_count_4</th>\n      <th>passenger_count_5</th>\n      <th>passenger_count_6</th>\n      <th>passenger_count_7</th>\n      <th>passenger_count_8</th>\n      <th>passenger_count_9</th>\n    </tr>\n  </thead>\n  <tbody>\n    <tr>\n      <th>0</th>\n      <td>id2875421</td>\n      <td>2</td>\n      <td>2016-03-14 17:24:55</td>\n      <td>2016-03-14 17:32:30</td>\n      <td>1</td>\n      <td>-73.98</td>\n      <td>40.77</td>\n      <td>-73.96</td>\n      <td>40.77</td>\n      <td>N</td>\n      <td>455</td>\n      <td>Monday</td>\n      <td>3</td>\n      <td>0</td>\n      <td>17</td>\n      <td>1.50</td>\n      <td>0</td>\n      <td>1</td>\n      <td>0</td>\n      <td>1</td>\n      <td>0</td>\n      <td>0</td>\n      <td>0</td>\n      <td>0</td>\n      <td>0</td>\n      <td>0</td>\n      <td>0</td>\n      <td>0</td>\n      <td>0</td>\n      <td>0</td>\n      <td>0</td>\n      <td>0</td>\n      <td>0</td>\n      <td>0</td>\n      <td>0</td>\n      <td>0</td>\n      <td>0</td>\n      <td>0</td>\n      <td>0</td>\n      <td>0</td>\n      <td>0</td>\n      <td>0</td>\n      <td>0</td>\n      <td>0</td>\n      <td>0</td>\n      <td>1</td>\n      <td>0</td>\n      <td>0</td>\n      <td>0</td>\n      <td>0</td>\n      <td>0</td>\n      <td>0</td>\n      <td>1</td>\n      <td>0</td>\n      <td>0</td>\n      <td>0</td>\n      <td>0</td>\n      <td>0</td>\n      <td>0</td>\n      <td>0</td>\n      <td>0</td>\n    </tr>\n    <tr>\n      <th>1</th>\n      <td>id2377394</td>\n      <td>1</td>\n      <td>2016-06-12 00:43:35</td>\n      <td>2016-06-12 00:54:38</td>\n      <td>1</td>\n      <td>-73.98</td>\n      <td>40.74</td>\n      <td>-74.00</td>\n      <td>40.73</td>\n      <td>N</td>\n      <td>663</td>\n      <td>Sunday</td>\n      <td>6</td>\n      <td>6</td>\n      <td>0</td>\n      <td>1.81</td>\n      <td>0</td>\n      <td>0</td>\n      <td>0</td>\n      <td>0</td>\n      <td>0</td>\n      <td>0</td>\n      <td>1</td>\n      <td>0</td>\n      <td>0</td>\n      <td>0</td>\n      <td>0</td>\n      <td>0</td>\n      <td>1</td>\n      <td>0</td>\n      <td>0</td>\n      <td>0</td>\n      <td>0</td>\n      <td>0</td>\n      <td>0</td>\n      <td>0</td>\n      <td>0</td>\n      <td>0</td>\n      <td>0</td>\n      <td>0</td>\n      <td>0</td>\n      <td>0</td>\n      <td>0</td>\n      <td>0</td>\n      <td>0</td>\n      <td>0</td>\n      <td>0</td>\n      <td>0</td>\n      <td>0</td>\n      <td>0</td>\n      <td>0</td>\n      <td>0</td>\n      <td>1</td>\n      <td>0</td>\n      <td>0</td>\n      <td>0</td>\n      <td>0</td>\n      <td>0</td>\n      <td>0</td>\n      <td>0</td>\n      <td>0</td>\n    </tr>\n    <tr>\n      <th>2</th>\n      <td>id3858529</td>\n      <td>2</td>\n      <td>2016-01-19 11:35:24</td>\n      <td>2016-01-19 12:10:48</td>\n      <td>1</td>\n      <td>-73.98</td>\n      <td>40.76</td>\n      <td>-74.01</td>\n      <td>40.71</td>\n      <td>N</td>\n      <td>2124</td>\n      <td>Tuesday</td>\n      <td>1</td>\n      <td>1</td>\n      <td>11</td>\n      <td>6.39</td>\n      <td>0</td>\n      <td>1</td>\n      <td>0</td>\n      <td>0</td>\n      <td>0</td>\n      <td>0</td>\n      <td>0</td>\n      <td>1</td>\n      <td>0</td>\n      <td>0</td>\n      <td>0</td>\n      <td>0</td>\n      <td>0</td>\n      <td>0</td>\n      <td>0</td>\n      <td>0</td>\n      <td>0</td>\n      <td>0</td>\n      <td>0</td>\n      <td>0</td>\n      <td>0</td>\n      <td>0</td>\n      <td>0</td>\n      <td>1</td>\n      <td>0</td>\n      <td>0</td>\n      <td>0</td>\n      <td>0</td>\n      <td>0</td>\n      <td>0</td>\n      <td>0</td>\n      <td>0</td>\n      <td>0</td>\n      <td>0</td>\n      <td>0</td>\n      <td>0</td>\n      <td>1</td>\n      <td>0</td>\n      <td>0</td>\n      <td>0</td>\n      <td>0</td>\n      <td>0</td>\n      <td>0</td>\n      <td>0</td>\n      <td>0</td>\n    </tr>\n    <tr>\n      <th>3</th>\n      <td>id3504673</td>\n      <td>2</td>\n      <td>2016-04-06 19:32:31</td>\n      <td>2016-04-06 19:39:40</td>\n      <td>1</td>\n      <td>-74.01</td>\n      <td>40.72</td>\n      <td>-74.01</td>\n      <td>40.71</td>\n      <td>N</td>\n      <td>429</td>\n      <td>Wednesday</td>\n      <td>4</td>\n      <td>2</td>\n      <td>19</td>\n      <td>1.49</td>\n      <td>0</td>\n      <td>1</td>\n      <td>0</td>\n      <td>0</td>\n      <td>1</td>\n      <td>0</td>\n      <td>0</td>\n      <td>0</td>\n      <td>1</td>\n      <td>0</td>\n      <td>0</td>\n      <td>0</td>\n      <td>0</td>\n      <td>0</td>\n      <td>0</td>\n      <td>0</td>\n      <td>0</td>\n      <td>0</td>\n      <td>0</td>\n      <td>0</td>\n      <td>0</td>\n      <td>0</td>\n      <td>0</td>\n      <td>0</td>\n      <td>0</td>\n      <td>0</td>\n      <td>0</td>\n      <td>0</td>\n      <td>0</td>\n      <td>0</td>\n      <td>0</td>\n      <td>1</td>\n      <td>0</td>\n      <td>0</td>\n      <td>0</td>\n      <td>0</td>\n      <td>1</td>\n      <td>0</td>\n      <td>0</td>\n      <td>0</td>\n      <td>0</td>\n      <td>0</td>\n      <td>0</td>\n      <td>0</td>\n      <td>0</td>\n    </tr>\n    <tr>\n      <th>4</th>\n      <td>id2181028</td>\n      <td>2</td>\n      <td>2016-03-26 13:30:55</td>\n      <td>2016-03-26 13:38:10</td>\n      <td>1</td>\n      <td>-73.97</td>\n      <td>40.79</td>\n      <td>-73.97</td>\n      <td>40.78</td>\n      <td>N</td>\n      <td>435</td>\n      <td>Saturday</td>\n      <td>3</td>\n      <td>5</td>\n      <td>13</td>\n      <td>1.19</td>\n      <td>0</td>\n      <td>1</td>\n      <td>0</td>\n      <td>1</td>\n      <td>0</td>\n      <td>0</td>\n      <td>0</td>\n      <td>0</td>\n      <td>0</td>\n      <td>0</td>\n      <td>0</td>\n      <td>1</td>\n      <td>0</td>\n      <td>0</td>\n      <td>0</td>\n      <td>0</td>\n      <td>0</td>\n      <td>0</td>\n      <td>0</td>\n      <td>0</td>\n      <td>0</td>\n      <td>0</td>\n      <td>0</td>\n      <td>0</td>\n      <td>0</td>\n      <td>1</td>\n      <td>0</td>\n      <td>0</td>\n      <td>0</td>\n      <td>0</td>\n      <td>0</td>\n      <td>0</td>\n      <td>0</td>\n      <td>0</td>\n      <td>0</td>\n      <td>0</td>\n      <td>1</td>\n      <td>0</td>\n      <td>0</td>\n      <td>0</td>\n      <td>0</td>\n      <td>0</td>\n      <td>0</td>\n      <td>0</td>\n      <td>0</td>\n    </tr>\n  </tbody>\n</table>\n</div>"
          },
          "metadata": {}
        }
      ]
    },
    {
      "metadata": {
        "trusted": true,
        "_uuid": "7e1bbd77018fcdd9a4fb8d513fe107a3e1c17193"
      },
      "cell_type": "code",
      "source": "#Vérifiez d'abord l'index des features et le label\nlist(zip( range(0,len(data.columns)),data.columns))",
      "execution_count": 37,
      "outputs": [
        {
          "output_type": "execute_result",
          "execution_count": 37,
          "data": {
            "text/plain": "[(0, 'id'),\n (1, 'vendor_id'),\n (2, 'pickup_datetime'),\n (3, 'dropoff_datetime'),\n (4, 'passenger_count'),\n (5, 'pickup_longitude'),\n (6, 'pickup_latitude'),\n (7, 'dropoff_longitude'),\n (8, 'dropoff_latitude'),\n (9, 'store_and_fwd_flag'),\n (10, 'trip_duration'),\n (11, 'weekday'),\n (12, 'month'),\n (13, 'weekday_num'),\n (14, 'pickup_hour'),\n (15, 'distance'),\n (16, 'flag_Y'),\n (17, 'vendor_id_2'),\n (18, 'month_2'),\n (19, 'month_3'),\n (20, 'month_4'),\n (21, 'month_5'),\n (22, 'month_6'),\n (23, 'weekday_num_1'),\n (24, 'weekday_num_2'),\n (25, 'weekday_num_3'),\n (26, 'weekday_num_4'),\n (27, 'weekday_num_5'),\n (28, 'weekday_num_6'),\n (29, 'pickup_hour_1'),\n (30, 'pickup_hour_2'),\n (31, 'pickup_hour_3'),\n (32, 'pickup_hour_4'),\n (33, 'pickup_hour_5'),\n (34, 'pickup_hour_6'),\n (35, 'pickup_hour_7'),\n (36, 'pickup_hour_8'),\n (37, 'pickup_hour_9'),\n (38, 'pickup_hour_10'),\n (39, 'pickup_hour_11'),\n (40, 'pickup_hour_12'),\n (41, 'pickup_hour_13'),\n (42, 'pickup_hour_14'),\n (43, 'pickup_hour_15'),\n (44, 'pickup_hour_16'),\n (45, 'pickup_hour_17'),\n (46, 'pickup_hour_18'),\n (47, 'pickup_hour_19'),\n (48, 'pickup_hour_20'),\n (49, 'pickup_hour_21'),\n (50, 'pickup_hour_22'),\n (51, 'pickup_hour_23'),\n (52, 'passenger_count_1'),\n (53, 'passenger_count_2'),\n (54, 'passenger_count_3'),\n (55, 'passenger_count_4'),\n (56, 'passenger_count_5'),\n (57, 'passenger_count_6'),\n (58, 'passenger_count_7'),\n (59, 'passenger_count_8'),\n (60, 'passenger_count_9')]"
          },
          "metadata": {}
        }
      ]
    },
    {
      "metadata": {
        "trusted": true,
        "_uuid": "2a0f9b4ed61a11214cdd0fa114d1cadf5ecb7b91"
      },
      "cell_type": "code",
      "source": "SELECTED_COLUMNS = ['vendor_id', 'vendor_id_2', \n                    'flag_Y', \n                    'pickup_hour', 'distance', \n                    'month','weekday_num',\n                    'month_2', 'month_3', 'month_4', 'month_5', 'month_6',\n                    'weekday_num_1', 'weekday_num_2', 'weekday_num_3', 'weekday_num_4', 'weekday_num_5', 'weekday_num_6',\n                    'passenger_count_1', 'passenger_count_2', 'passenger_count_3', 'passenger_count_4', 'passenger_count_5', 'passenger_count_6',\n                    'pickup_hour', 'pickup_hour_1', 'pickup_hour_2','pickup_hour_3', 'pickup_hour_4', 'pickup_hour_5','pickup_hour_6',  'pickup_hour_7', 'pickup_hour_8', \n                    'pickup_hour_9', 'pickup_hour_10', 'pickup_hour_11', 'pickup_hour_12', 'pickup_hour_13', 'pickup_hour_14', 'pickup_hour_15', 'pickup_hour_16', \n                    'pickup_hour_17', 'pickup_hour_18', 'pickup_hour_19', 'pickup_hour_20', 'pickup_hour_21', 'pickup_hour_22', 'pickup_hour_23' ]\nX_many_features = data[SELECTED_COLUMNS]\nX_many_features.head()\ny_many_features = np.log1p(data['trip_duration'])\n",
      "execution_count": 38,
      "outputs": []
    },
    {
      "metadata": {
        "trusted": true,
        "_uuid": "deaf15c12636d8a148a3d721f1579f78cc077964"
      },
      "cell_type": "code",
      "source": "X_many_features.shape, y_many_features.shape",
      "execution_count": 39,
      "outputs": [
        {
          "output_type": "execute_result",
          "execution_count": 39,
          "data": {
            "text/plain": "((1458644, 48), (1458644,))"
          },
          "metadata": {}
        }
      ]
    },
    {
      "metadata": {
        "trusted": true,
        "_uuid": "10342da926946fe7901d7e84f644f7d1d2705c4c"
      },
      "cell_type": "code",
      "source": "rf = RandomForestRegressor(random_state=42)\nrf.fit(X_many_features, y_many_features)",
      "execution_count": 40,
      "outputs": [
        {
          "output_type": "execute_result",
          "execution_count": 40,
          "data": {
            "text/plain": "RandomForestRegressor(bootstrap=True, criterion='mse', max_depth=None,\n           max_features='auto', max_leaf_nodes=None,\n           min_impurity_decrease=0.0, min_impurity_split=None,\n           min_samples_leaf=1, min_samples_split=2,\n           min_weight_fraction_leaf=0.0, n_estimators=10, n_jobs=None,\n           oob_score=False, random_state=42, verbose=0, warm_start=False)"
          },
          "metadata": {}
        }
      ]
    },
    {
      "metadata": {
        "trusted": true,
        "_uuid": "80fe9c4019d357b8402eb5ffdbb5e372e450a926"
      },
      "cell_type": "code",
      "source": "cv_scores = -cross_val_score(rf, X_many_features, y_many_features, cv=3, scoring='neg_mean_squared_error')\ncv_scores",
      "execution_count": 41,
      "outputs": [
        {
          "output_type": "execute_result",
          "execution_count": 41,
          "data": {
            "text/plain": "array([0.25966352, 0.26154706, 0.25931766])"
          },
          "metadata": {}
        }
      ]
    },
    {
      "metadata": {
        "trusted": true,
        "_uuid": "50644fb99fb3528d5f72c7e531e4ac9d8d69175b"
      },
      "cell_type": "code",
      "source": "cv_scores.mean()",
      "execution_count": 42,
      "outputs": [
        {
          "output_type": "execute_result",
          "execution_count": 42,
          "data": {
            "text/plain": "0.2601760771128753"
          },
          "metadata": {}
        }
      ]
    },
    {
      "metadata": {
        "trusted": true,
        "_uuid": "a79f866ecaf7281c1aa793eb1796503dae950b39"
      },
      "cell_type": "code",
      "source": "X_test = test[SELECTED_COLUMNS]\npredictions = np.exp(rf.predict(X_test))-np.ones(len(X_test))\n\nX_test.shape\npred = pd.DataFrame(predictions, index=test['id'])\npred.columns = ['trip_duration']\npred.to_csv(\"submission_.csv\")\n\npd.read_csv('submission_.csv')",
      "execution_count": 43,
      "outputs": [
        {
          "output_type": "execute_result",
          "execution_count": 43,
          "data": {
            "text/plain": "               id  trip_duration\n0       id3004672         529.47\n1       id3505355         571.02\n2       id1217141         351.13\n3       id2150126         992.23\n4       id1598245         274.71\n5       id0668992        1063.95\n6       id1765014         988.64\n7       id0898117         869.30\n8       id3905224        2691.22\n9       id1543102         492.23\n10      id3024712        1089.11\n11      id3665810         319.09\n12      id1836461         380.97\n13      id3457080         632.28\n14      id3376065        1020.03\n15      id3008739         980.47\n16      id0902216         969.68\n17      id3564824         632.52\n18      id0820280         206.08\n19      id0775088        1430.16\n20      id1468488         195.13\n21      id2657479         621.69\n22      id1262719         841.00\n23      id1345524        1239.97\n24      id2911638        1031.24\n25      id2849512        1114.98\n26      id0236829         523.81\n27      id2905906         199.37\n28      id3737939        1915.51\n29      id0766179        1550.93\n...           ...            ...\n625104  id0120169         432.41\n625105  id0386349         490.43\n625106  id1962532         721.42\n625107  id0335207         382.47\n625108  id0273508        1358.35\n625109  id2936770         835.81\n625110  id0044526         186.38\n625111  id3605431         893.43\n625112  id2681896         283.00\n625113  id3308448         621.69\n625114  id2108525         577.24\n625115  id3952220        1850.29\n625116  id2771348         359.94\n625117  id3065313        1558.94\n625118  id2332834         846.03\n625119  id3495407         494.10\n625120  id3811106         283.73\n625121  id2693698         343.75\n625122  id2884571         261.41\n625123  id2790343        1113.80\n625124  id1901191         968.07\n625125  id0664662         766.55\n625126  id2073829         186.10\n625127  id0328287         599.68\n625128  id1340822         252.51\n625129  id3008929         232.37\n625130  id3700764         961.49\n625131  id2568735        1444.12\n625132  id1384355        1663.74\n625133  id0621643        1014.91\n\n[625134 rows x 2 columns]",
            "text/html": "<div>\n<style scoped>\n    .dataframe tbody tr th:only-of-type {\n        vertical-align: middle;\n    }\n\n    .dataframe tbody tr th {\n        vertical-align: top;\n    }\n\n    .dataframe thead th {\n        text-align: right;\n    }\n</style>\n<table border=\"1\" class=\"dataframe\">\n  <thead>\n    <tr style=\"text-align: right;\">\n      <th></th>\n      <th>id</th>\n      <th>trip_duration</th>\n    </tr>\n  </thead>\n  <tbody>\n    <tr>\n      <th>0</th>\n      <td>id3004672</td>\n      <td>529.47</td>\n    </tr>\n    <tr>\n      <th>1</th>\n      <td>id3505355</td>\n      <td>571.02</td>\n    </tr>\n    <tr>\n      <th>2</th>\n      <td>id1217141</td>\n      <td>351.13</td>\n    </tr>\n    <tr>\n      <th>3</th>\n      <td>id2150126</td>\n      <td>992.23</td>\n    </tr>\n    <tr>\n      <th>4</th>\n      <td>id1598245</td>\n      <td>274.71</td>\n    </tr>\n    <tr>\n      <th>5</th>\n      <td>id0668992</td>\n      <td>1063.95</td>\n    </tr>\n    <tr>\n      <th>6</th>\n      <td>id1765014</td>\n      <td>988.64</td>\n    </tr>\n    <tr>\n      <th>7</th>\n      <td>id0898117</td>\n      <td>869.30</td>\n    </tr>\n    <tr>\n      <th>8</th>\n      <td>id3905224</td>\n      <td>2691.22</td>\n    </tr>\n    <tr>\n      <th>9</th>\n      <td>id1543102</td>\n      <td>492.23</td>\n    </tr>\n    <tr>\n      <th>10</th>\n      <td>id3024712</td>\n      <td>1089.11</td>\n    </tr>\n    <tr>\n      <th>11</th>\n      <td>id3665810</td>\n      <td>319.09</td>\n    </tr>\n    <tr>\n      <th>12</th>\n      <td>id1836461</td>\n      <td>380.97</td>\n    </tr>\n    <tr>\n      <th>13</th>\n      <td>id3457080</td>\n      <td>632.28</td>\n    </tr>\n    <tr>\n      <th>14</th>\n      <td>id3376065</td>\n      <td>1020.03</td>\n    </tr>\n    <tr>\n      <th>15</th>\n      <td>id3008739</td>\n      <td>980.47</td>\n    </tr>\n    <tr>\n      <th>16</th>\n      <td>id0902216</td>\n      <td>969.68</td>\n    </tr>\n    <tr>\n      <th>17</th>\n      <td>id3564824</td>\n      <td>632.52</td>\n    </tr>\n    <tr>\n      <th>18</th>\n      <td>id0820280</td>\n      <td>206.08</td>\n    </tr>\n    <tr>\n      <th>19</th>\n      <td>id0775088</td>\n      <td>1430.16</td>\n    </tr>\n    <tr>\n      <th>20</th>\n      <td>id1468488</td>\n      <td>195.13</td>\n    </tr>\n    <tr>\n      <th>21</th>\n      <td>id2657479</td>\n      <td>621.69</td>\n    </tr>\n    <tr>\n      <th>22</th>\n      <td>id1262719</td>\n      <td>841.00</td>\n    </tr>\n    <tr>\n      <th>23</th>\n      <td>id1345524</td>\n      <td>1239.97</td>\n    </tr>\n    <tr>\n      <th>24</th>\n      <td>id2911638</td>\n      <td>1031.24</td>\n    </tr>\n    <tr>\n      <th>25</th>\n      <td>id2849512</td>\n      <td>1114.98</td>\n    </tr>\n    <tr>\n      <th>26</th>\n      <td>id0236829</td>\n      <td>523.81</td>\n    </tr>\n    <tr>\n      <th>27</th>\n      <td>id2905906</td>\n      <td>199.37</td>\n    </tr>\n    <tr>\n      <th>28</th>\n      <td>id3737939</td>\n      <td>1915.51</td>\n    </tr>\n    <tr>\n      <th>29</th>\n      <td>id0766179</td>\n      <td>1550.93</td>\n    </tr>\n    <tr>\n      <th>...</th>\n      <td>...</td>\n      <td>...</td>\n    </tr>\n    <tr>\n      <th>625104</th>\n      <td>id0120169</td>\n      <td>432.41</td>\n    </tr>\n    <tr>\n      <th>625105</th>\n      <td>id0386349</td>\n      <td>490.43</td>\n    </tr>\n    <tr>\n      <th>625106</th>\n      <td>id1962532</td>\n      <td>721.42</td>\n    </tr>\n    <tr>\n      <th>625107</th>\n      <td>id0335207</td>\n      <td>382.47</td>\n    </tr>\n    <tr>\n      <th>625108</th>\n      <td>id0273508</td>\n      <td>1358.35</td>\n    </tr>\n    <tr>\n      <th>625109</th>\n      <td>id2936770</td>\n      <td>835.81</td>\n    </tr>\n    <tr>\n      <th>625110</th>\n      <td>id0044526</td>\n      <td>186.38</td>\n    </tr>\n    <tr>\n      <th>625111</th>\n      <td>id3605431</td>\n      <td>893.43</td>\n    </tr>\n    <tr>\n      <th>625112</th>\n      <td>id2681896</td>\n      <td>283.00</td>\n    </tr>\n    <tr>\n      <th>625113</th>\n      <td>id3308448</td>\n      <td>621.69</td>\n    </tr>\n    <tr>\n      <th>625114</th>\n      <td>id2108525</td>\n      <td>577.24</td>\n    </tr>\n    <tr>\n      <th>625115</th>\n      <td>id3952220</td>\n      <td>1850.29</td>\n    </tr>\n    <tr>\n      <th>625116</th>\n      <td>id2771348</td>\n      <td>359.94</td>\n    </tr>\n    <tr>\n      <th>625117</th>\n      <td>id3065313</td>\n      <td>1558.94</td>\n    </tr>\n    <tr>\n      <th>625118</th>\n      <td>id2332834</td>\n      <td>846.03</td>\n    </tr>\n    <tr>\n      <th>625119</th>\n      <td>id3495407</td>\n      <td>494.10</td>\n    </tr>\n    <tr>\n      <th>625120</th>\n      <td>id3811106</td>\n      <td>283.73</td>\n    </tr>\n    <tr>\n      <th>625121</th>\n      <td>id2693698</td>\n      <td>343.75</td>\n    </tr>\n    <tr>\n      <th>625122</th>\n      <td>id2884571</td>\n      <td>261.41</td>\n    </tr>\n    <tr>\n      <th>625123</th>\n      <td>id2790343</td>\n      <td>1113.80</td>\n    </tr>\n    <tr>\n      <th>625124</th>\n      <td>id1901191</td>\n      <td>968.07</td>\n    </tr>\n    <tr>\n      <th>625125</th>\n      <td>id0664662</td>\n      <td>766.55</td>\n    </tr>\n    <tr>\n      <th>625126</th>\n      <td>id2073829</td>\n      <td>186.10</td>\n    </tr>\n    <tr>\n      <th>625127</th>\n      <td>id0328287</td>\n      <td>599.68</td>\n    </tr>\n    <tr>\n      <th>625128</th>\n      <td>id1340822</td>\n      <td>252.51</td>\n    </tr>\n    <tr>\n      <th>625129</th>\n      <td>id3008929</td>\n      <td>232.37</td>\n    </tr>\n    <tr>\n      <th>625130</th>\n      <td>id3700764</td>\n      <td>961.49</td>\n    </tr>\n    <tr>\n      <th>625131</th>\n      <td>id2568735</td>\n      <td>1444.12</td>\n    </tr>\n    <tr>\n      <th>625132</th>\n      <td>id1384355</td>\n      <td>1663.74</td>\n    </tr>\n    <tr>\n      <th>625133</th>\n      <td>id0621643</td>\n      <td>1014.91</td>\n    </tr>\n  </tbody>\n</table>\n<p>625134 rows × 2 columns</p>\n</div>"
          },
          "metadata": {}
        }
      ]
    },
    {
      "metadata": {
        "trusted": true,
        "_uuid": "d3ca8497b3a975530786e3bff22d118fc9e7952e"
      },
      "cell_type": "code",
      "source": "",
      "execution_count": null,
      "outputs": []
    }
  ],
  "metadata": {
    "kernelspec": {
      "display_name": "Python 3",
      "language": "python",
      "name": "python3"
    },
    "language_info": {
      "name": "python",
      "version": "3.6.6",
      "mimetype": "text/x-python",
      "codemirror_mode": {
        "name": "ipython",
        "version": 3
      },
      "pygments_lexer": "ipython3",
      "nbconvert_exporter": "python",
      "file_extension": ".py"
    }
  },
  "nbformat": 4,
  "nbformat_minor": 1
}